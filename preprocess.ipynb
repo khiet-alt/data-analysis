{
 "cells": [
  {
   "cell_type": "markdown",
   "id": "590a85aa",
   "metadata": {},
   "source": [
    "# PROJECT 02: PHÂN TÍCH DỮ LIỆU\n",
    "- Lê Minh Hữu - 19120525\n",
    "- Ninh Duy Huy - 19120533\n",
    "- Cao Thanh Khiết - 19120544\n",
    "- Nguyễn Tuấn Khoa - 19120547\n",
    "- Trần Tuấn Kiệt - 19120557\n"
   ]
  },
  {
   "cell_type": "markdown",
   "id": "e472dc72",
   "metadata": {},
   "source": [
    "## TIỀN XỬ LÝ DỮ LIỆU"
   ]
  },
  {
   "cell_type": "code",
   "execution_count": 1,
   "id": "d04a7a72",
   "metadata": {},
   "outputs": [],
   "source": [
    "import pandas as pd\n",
    "import numpy as np"
   ]
  },
  {
   "cell_type": "code",
   "execution_count": 2,
   "id": "198fc18e",
   "metadata": {},
   "outputs": [],
   "source": [
    "playlists_df = pd.read_csv(\"data/playlists.csv\", sep=\",\")\n",
    "tracks_df = pd.read_csv(\"data/tracks.csv\", sep=\",\")\n",
    "users_df = pd.read_csv(\"data/users.csv\", sep=\",\")"
   ]
  },
  {
   "cell_type": "code",
   "execution_count": 3,
   "id": "da4af1e1",
   "metadata": {},
   "outputs": [
    {
     "name": "stdout",
     "output_type": "stream",
     "text": [
      "(608, 3)\n",
      "\n",
      "(6979, 45)\n",
      "\n",
      "(422, 33)\n"
     ]
    }
   ],
   "source": [
    "print(playlists_df.shape)\n",
    "print(tracks_df.shape)\n",
    "print(users_df.shape)"
   ]
  },
  {
   "cell_type": "code",
   "execution_count": 4,
   "id": "3849b75f",
   "metadata": {},
   "outputs": [],
   "source": [
    "# delete some row with missing values more than the given ratio\n",
    "def preprocess_data(old_df, ratio):\n",
    "    attributes = list(old_df.columns)\n",
    "    row = len(old_df.index)\n",
    "    col = len(attributes)\n",
    "\n",
    "    a = []\n",
    "    arr=[]\n",
    "    for i in range(row):\n",
    "        for j in range(col):\n",
    "            a.append(old_df[attributes[j]][i])\n",
    "        arr.append(a)\n",
    "        a = []\n",
    "\n",
    "    result_arr = []\n",
    "    temp_a = []\n",
    "    for i in range(row):\n",
    "        for j in range(col):\n",
    "            temp_a.append(arr[i][j])\n",
    "        result_arr.append(temp_a)\n",
    "        temp_a = []\n",
    "# xóa dòng\n",
    "    for value in arr:\n",
    "        count_missing = 0\n",
    "        for i in value:\n",
    "            if i == 'None' or i!=i :\n",
    "                count_missing +=1\n",
    "        if (count_missing / col) > ratio:\n",
    "            result_arr.remove(value)\n",
    "# xóa cột\n",
    "    new_row = len(result_arr)\n",
    "    temp_arr = []\n",
    "    temp_a = []\n",
    "    for i in range(new_row):\n",
    "        for j in range(col):\n",
    "            temp_a.append(result_arr[i][j])\n",
    "        temp_arr.append(temp_a)\n",
    "        temp_a = []\n",
    "\n",
    "    count_del_col = 0 #biến đếm các cột đã bị xóa\n",
    "    for i in range(col):\n",
    "        count_missing = 0\n",
    "        for j in range(new_row):\n",
    "            if temp_arr[j][i] != temp_arr[j][i] or temp_arr[j][i] == 'None':\n",
    "                count_missing += 1\n",
    "        if (count_missing /new_row) > ratio:\n",
    "            del attributes[i-count_del_col]\n",
    "            for r in result_arr:\n",
    "                del r[i-count_del_col]\n",
    "            count_del_col += 1\n",
    "\n",
    "    # tạo một DataFrame mới để lưu kết quả\n",
    "    new_data = {}\n",
    "    new_row = len(result_arr)\n",
    "    for i in range(len(attributes)):\n",
    "        new_data[attributes[i]] = [result_arr[j][i] for j in range(new_row)] \n",
    "\n",
    "    new_df = pd.DataFrame(new_data, columns = attributes)\n",
    "    return new_df\n"
   ]
  },
  {
   "cell_type": "code",
   "execution_count": 5,
   "id": "ba42e7e1",
   "metadata": {},
   "outputs": [],
   "source": [
    "playlists_new = preprocess_data(playlists_df,0.5)\n",
    "tracks_new = preprocess_data(tracks_df,0.5)\n",
    "users_new = preprocess_data(users_df,0.5)"
   ]
  },
  {
   "cell_type": "code",
   "execution_count": 6,
   "id": "b008976c",
   "metadata": {},
   "outputs": [],
   "source": [
    "# ghi dataframe ra file mới\n",
    "playlists_new.to_csv('cleaned_data/playlists_new.csv', index=False, header=True)\n",
    "tracks_new.to_csv('cleaned_data/tracks_new.csv', index=False, header=True)\n",
    "users_new.to_csv('cleaned_data/users_new.csv', index=False, header=True)"
   ]
  },
  {
   "cell_type": "code",
   "execution_count": 7,
   "id": "8e0a46aa",
   "metadata": {},
   "outputs": [
    {
     "name": "stdout",
     "output_type": "stream",
     "text": [
      "(608, 3)\n",
      "\n",
      "(3485, 38)\n",
      "\n",
      "(216, 32)\n"
     ]
    }
   ],
   "source": [
    "print(playlists_new.shape)\n",
    "print(tracks_new.shape)\n",
    "print(users_new.shape)"
   ]
  },
  {
   "cell_type": "code",
   "execution_count": null,
   "id": "92ea52ab",
   "metadata": {},
   "outputs": [],
   "source": []
  },
  {
   "cell_type": "code",
   "execution_count": null,
   "id": "758f87c9",
   "metadata": {},
   "outputs": [],
   "source": []
  }
 ],
 "metadata": {
  "kernelspec": {
   "display_name": "Python 3 (ipykernel)",
   "language": "python",
   "name": "python3"
  },
  "language_info": {
   "codemirror_mode": {
    "name": "ipython",
    "version": 3
   },
   "file_extension": ".py",
   "mimetype": "text/x-python",
   "name": "python",
   "nbconvert_exporter": "python",
   "pygments_lexer": "ipython3",
   "version": "3.8.8"
  }
 },
 "nbformat": 4,
 "nbformat_minor": 5
}
