{
 "cells": [
  {
   "cell_type": "code",
   "execution_count": 1,
   "id": "91a6a05e",
   "metadata": {},
   "outputs": [],
   "source": [
    "import pandas as pd\n",
    "import numpy as np\n",
    "import matplotlib.pyplot as plt"
   ]
  },
  {
   "cell_type": "code",
   "execution_count": 2,
   "id": "2165067a",
   "metadata": {},
   "outputs": [],
   "source": [
    "tracks_df = pd.read_csv('cleaned_data/tracks_new.csv', index_col='Unnamed: 0')\n",
    "users_df = pd.read_csv('cleaned_data/users_new.csv', index_col='Unnamed: 0')"
   ]
  },
  {
   "cell_type": "markdown",
   "id": "0e0dda11",
   "metadata": {},
   "source": [
    "Câu 1: Trong file \"tracks_new.csv\": \n",
    "- Tìm tổng số lượt likes_count, playback_count của các 'genre' và lưu vào dataFrame\n",
    "- Sắp xếp dataFrame này theo thứ tự tăng dần likes_count\n",
    "- Vẽ 2 biểu đồ thể hiện\n",
    "- Mục đích: tìm được thể loại có tổng số lượt likes_count cao nhất và playback_count cao nhất"
   ]
  },
  {
   "cell_type": "code",
   "execution_count": 57,
   "id": "1ac07447",
   "metadata": {},
   "outputs": [],
   "source": [
    "genres = tracks_df['genre'].unique()\n",
    "#create genre df:\n",
    "genre_df = pd.DataFrame(columns = ['sum_likes_count', 'sum_playback_count'], index = genres)\n",
    "\n",
    "for g in genres:\n",
    "    genre_df.loc[g,'sum_likes_count']=tracks_df[tracks_df['genre']==g]['likes_count'].sum()\n",
    "    genre_df.loc[g,'sum_playback_count']=tracks_df[tracks_df['genre']==g]['playback_count'].sum()\n",
    "    \n",
    "genre_df.sort_values(by='sum_likes_count', ascending=False, inplace=True)"
   ]
  },
  {
   "cell_type": "markdown",
   "id": "e6b50b9c",
   "metadata": {},
   "source": [
    "Xem kết quả của 10 dòng đầu"
   ]
  },
  {
   "cell_type": "code",
   "execution_count": 58,
   "id": "888c210f",
   "metadata": {},
   "outputs": [
    {
     "data": {
      "text/html": [
       "<div>\n",
       "<style scoped>\n",
       "    .dataframe tbody tr th:only-of-type {\n",
       "        vertical-align: middle;\n",
       "    }\n",
       "\n",
       "    .dataframe tbody tr th {\n",
       "        vertical-align: top;\n",
       "    }\n",
       "\n",
       "    .dataframe thead th {\n",
       "        text-align: right;\n",
       "    }\n",
       "</style>\n",
       "<table border=\"1\" class=\"dataframe\">\n",
       "  <thead>\n",
       "    <tr style=\"text-align: right;\">\n",
       "      <th></th>\n",
       "      <th>sum_likes_count</th>\n",
       "      <th>sum_playback_count</th>\n",
       "    </tr>\n",
       "  </thead>\n",
       "  <tbody>\n",
       "    <tr>\n",
       "      <th>Electronic</th>\n",
       "      <td>2550977.0</td>\n",
       "      <td>165270409.0</td>\n",
       "    </tr>\n",
       "    <tr>\n",
       "      <th>Indie</th>\n",
       "      <td>1791551.0</td>\n",
       "      <td>140774857.0</td>\n",
       "    </tr>\n",
       "    <tr>\n",
       "      <th>russ</th>\n",
       "      <td>1016850.0</td>\n",
       "      <td>70141840.0</td>\n",
       "    </tr>\n",
       "    <tr>\n",
       "      <th>Jazz &amp; Blues</th>\n",
       "      <td>795824.0</td>\n",
       "      <td>47363084.0</td>\n",
       "    </tr>\n",
       "    <tr>\n",
       "      <th>Folk</th>\n",
       "      <td>739395.0</td>\n",
       "      <td>35819052.0</td>\n",
       "    </tr>\n",
       "    <tr>\n",
       "      <th>wiz khalifa</th>\n",
       "      <td>635977.0</td>\n",
       "      <td>41964962.0</td>\n",
       "    </tr>\n",
       "    <tr>\n",
       "      <th>Rock</th>\n",
       "      <td>600719.0</td>\n",
       "      <td>52365698.0</td>\n",
       "    </tr>\n",
       "    <tr>\n",
       "      <th>Hip Hop</th>\n",
       "      <td>585424.0</td>\n",
       "      <td>35667370.0</td>\n",
       "    </tr>\n",
       "    <tr>\n",
       "      <th>Dance &amp; EDM</th>\n",
       "      <td>490538.0</td>\n",
       "      <td>24802890.0</td>\n",
       "    </tr>\n",
       "    <tr>\n",
       "      <th>Alternative</th>\n",
       "      <td>481036.0</td>\n",
       "      <td>31872256.0</td>\n",
       "    </tr>\n",
       "  </tbody>\n",
       "</table>\n",
       "</div>"
      ],
      "text/plain": [
       "             sum_likes_count sum_playback_count\n",
       "Electronic         2550977.0        165270409.0\n",
       "Indie              1791551.0        140774857.0\n",
       "russ               1016850.0         70141840.0\n",
       "Jazz & Blues        795824.0         47363084.0\n",
       "Folk                739395.0         35819052.0\n",
       "wiz khalifa         635977.0         41964962.0\n",
       "Rock                600719.0         52365698.0\n",
       "Hip Hop             585424.0         35667370.0\n",
       "Dance & EDM         490538.0         24802890.0\n",
       "Alternative         481036.0         31872256.0"
      ]
     },
     "execution_count": 58,
     "metadata": {},
     "output_type": "execute_result"
    }
   ],
   "source": [
    "genre_df.head(10)"
   ]
  },
  {
   "cell_type": "markdown",
   "id": "abadf0ae",
   "metadata": {},
   "source": [
    "Vẽ biểu đồ của 10 dòng đầu có sum_likes_count cao nhất:"
   ]
  },
  {
   "cell_type": "code",
   "execution_count": 34,
   "id": "013afca2",
   "metadata": {},
   "outputs": [
    {
     "data": {
      "text/plain": [
       "<AxesSubplot:>"
      ]
     },
     "execution_count": 34,
     "metadata": {},
     "output_type": "execute_result"
    },
    {
     "data": {
      "image/png": "[encoded data removed]",
      "text/plain": [
       "<Figure size 432x288 with 1 Axes>"
      ]
     },
     "metadata": {
      "needs_background": "light"
     },
     "output_type": "display_data"
    }
   ],
   "source": [
    "genre_df['sum_likes_count'].head(10).plot.barh()"
   ]
  },
  {
   "cell_type": "code",
   "execution_count": null,
   "id": "b65773b9",
   "metadata": {},
   "outputs": [],
   "source": [
    "genre_df['sum_playback_count'].head(10).plot.barh()"
   ]
  },
  {
   "cell_type": "markdown",
   "id": "a06d1a21",
   "metadata": {},
   "source": [
    "Vẽ biểu đồ của 10 dòng đầu có sum_playback_count cao nhất:"
   ]
  },
  {
   "cell_type": "code",
   "execution_count": 33,
   "id": "a454b848",
   "metadata": {},
   "outputs": [
    {
     "data": {
      "text/plain": [
       "<AxesSubplot:>"
      ]
     },
     "execution_count": 33,
     "metadata": {},
     "output_type": "execute_result"
    },
    {
     "data": {
      "image/png": "[encoded data removed]",
      "text/plain": [
       "<Figure size 432x288 with 1 Axes>"
      ]
     },
     "metadata": {
      "needs_background": "light"
     },
     "output_type": "display_data"
    }
   ],
   "source": [
    "genre_df.sort_values(by='sum_playback_count',ascending=False)['sum_playback_count'].head(10).plot.barh()"
   ]
  },
  {
   "cell_type": "code",
   "execution_count": null,
   "id": "6eaa1a42",
   "metadata": {
    "collapsed": true
   },
   "outputs": [],
   "source": []
  },
  {
   "cell_type": "markdown",
   "id": "343f0cc5",
   "metadata": {},
   "source": [
    "Câu 2: Trong \"users_new.csv\":\n",
    "- Cột \"country_code\" thể hiện user này đến từ nước nào\n",
    "- Tạo ra một DataFrame để lưu lại các thông tin sau: Index = \"country_code\", 1 cột number_of_users lưu số lượng user.\n",
    "- Không xử lí ô trống\n",
    "- Tìm hiểu users trong file này đến từ nước nào nhiều nhất, sắp xếp theo thứ tự giảm dần"
   ]
  },
  {
   "cell_type": "code",
   "execution_count": 59,
   "id": "feaf2a6c",
   "metadata": {},
   "outputs": [],
   "source": [
    "#country_code viết tắt là cc\n",
    "cc = users_df[users_df['country_code'].notna()]['country_code'].unique()\n",
    "#create df\n",
    "cc_df = pd.DataFrame(columns=['number_of_users'],index=cc)\n",
    "\n",
    "for c in cc:\n",
    "    cc_df.loc[c,'number_of_users'] = (users_df['country_code']==c).sum()\n",
    "    \n",
    "cc_df.sort_values(by='number_of_users',ascending=False,inplace=True)"
   ]
  },
  {
   "cell_type": "markdown",
   "id": "b8902d01",
   "metadata": {},
   "source": [
    "Xem kết quả:"
   ]
  },
  {
   "cell_type": "code",
   "execution_count": 60,
   "id": "d1e2b442",
   "metadata": {},
   "outputs": [
    {
     "data": {
      "text/html": [
       "<div>\n",
       "<style scoped>\n",
       "    .dataframe tbody tr th:only-of-type {\n",
       "        vertical-align: middle;\n",
       "    }\n",
       "\n",
       "    .dataframe tbody tr th {\n",
       "        vertical-align: top;\n",
       "    }\n",
       "\n",
       "    .dataframe thead th {\n",
       "        text-align: right;\n",
       "    }\n",
       "</style>\n",
       "<table border=\"1\" class=\"dataframe\">\n",
       "  <thead>\n",
       "    <tr style=\"text-align: right;\">\n",
       "      <th></th>\n",
       "      <th>number_of_users</th>\n",
       "    </tr>\n",
       "  </thead>\n",
       "  <tbody>\n",
       "    <tr>\n",
       "      <th>US</th>\n",
       "      <td>34</td>\n",
       "    </tr>\n",
       "    <tr>\n",
       "      <th>VN</th>\n",
       "      <td>18</td>\n",
       "    </tr>\n",
       "    <tr>\n",
       "      <th>AU</th>\n",
       "      <td>12</td>\n",
       "    </tr>\n",
       "    <tr>\n",
       "      <th>GB</th>\n",
       "      <td>11</td>\n",
       "    </tr>\n",
       "    <tr>\n",
       "      <th>CA</th>\n",
       "      <td>10</td>\n",
       "    </tr>\n",
       "    <tr>\n",
       "      <th>KR</th>\n",
       "      <td>5</td>\n",
       "    </tr>\n",
       "    <tr>\n",
       "      <th>JM</th>\n",
       "      <td>3</td>\n",
       "    </tr>\n",
       "    <tr>\n",
       "      <th>IN</th>\n",
       "      <td>3</td>\n",
       "    </tr>\n",
       "    <tr>\n",
       "      <th>BR</th>\n",
       "      <td>3</td>\n",
       "    </tr>\n",
       "    <tr>\n",
       "      <th>NL</th>\n",
       "      <td>3</td>\n",
       "    </tr>\n",
       "    <tr>\n",
       "      <th>ES</th>\n",
       "      <td>2</td>\n",
       "    </tr>\n",
       "    <tr>\n",
       "      <th>DE</th>\n",
       "      <td>2</td>\n",
       "    </tr>\n",
       "    <tr>\n",
       "      <th>KW</th>\n",
       "      <td>2</td>\n",
       "    </tr>\n",
       "    <tr>\n",
       "      <th>ZA</th>\n",
       "      <td>2</td>\n",
       "    </tr>\n",
       "    <tr>\n",
       "      <th>EG</th>\n",
       "      <td>2</td>\n",
       "    </tr>\n",
       "    <tr>\n",
       "      <th>ID</th>\n",
       "      <td>2</td>\n",
       "    </tr>\n",
       "    <tr>\n",
       "      <th>CH</th>\n",
       "      <td>1</td>\n",
       "    </tr>\n",
       "    <tr>\n",
       "      <th>FI</th>\n",
       "      <td>1</td>\n",
       "    </tr>\n",
       "    <tr>\n",
       "      <th>UA</th>\n",
       "      <td>1</td>\n",
       "    </tr>\n",
       "    <tr>\n",
       "      <th>NC</th>\n",
       "      <td>1</td>\n",
       "    </tr>\n",
       "    <tr>\n",
       "      <th>GR</th>\n",
       "      <td>1</td>\n",
       "    </tr>\n",
       "    <tr>\n",
       "      <th>JP</th>\n",
       "      <td>1</td>\n",
       "    </tr>\n",
       "    <tr>\n",
       "      <th>HU</th>\n",
       "      <td>1</td>\n",
       "    </tr>\n",
       "    <tr>\n",
       "      <th>PL</th>\n",
       "      <td>1</td>\n",
       "    </tr>\n",
       "    <tr>\n",
       "      <th>FR</th>\n",
       "      <td>1</td>\n",
       "    </tr>\n",
       "    <tr>\n",
       "      <th>DK</th>\n",
       "      <td>1</td>\n",
       "    </tr>\n",
       "    <tr>\n",
       "      <th>PH</th>\n",
       "      <td>1</td>\n",
       "    </tr>\n",
       "    <tr>\n",
       "      <th>SE</th>\n",
       "      <td>1</td>\n",
       "    </tr>\n",
       "    <tr>\n",
       "      <th>PT</th>\n",
       "      <td>1</td>\n",
       "    </tr>\n",
       "    <tr>\n",
       "      <th>CZ</th>\n",
       "      <td>1</td>\n",
       "    </tr>\n",
       "    <tr>\n",
       "      <th>DO</th>\n",
       "      <td>1</td>\n",
       "    </tr>\n",
       "  </tbody>\n",
       "</table>\n",
       "</div>"
      ],
      "text/plain": [
       "   number_of_users\n",
       "US              34\n",
       "VN              18\n",
       "AU              12\n",
       "GB              11\n",
       "CA              10\n",
       "KR               5\n",
       "JM               3\n",
       "IN               3\n",
       "BR               3\n",
       "NL               3\n",
       "ES               2\n",
       "DE               2\n",
       "KW               2\n",
       "ZA               2\n",
       "EG               2\n",
       "ID               2\n",
       "CH               1\n",
       "FI               1\n",
       "UA               1\n",
       "NC               1\n",
       "GR               1\n",
       "JP               1\n",
       "HU               1\n",
       "PL               1\n",
       "FR               1\n",
       "DK               1\n",
       "PH               1\n",
       "SE               1\n",
       "PT               1\n",
       "CZ               1\n",
       "DO               1"
      ]
     },
     "execution_count": 60,
     "metadata": {},
     "output_type": "execute_result"
    }
   ],
   "source": [
    "cc_df"
   ]
  },
  {
   "cell_type": "code",
   "execution_count": null,
   "id": "88f938ca",
   "metadata": {},
   "outputs": [],
   "source": []
  },
  {
   "cell_type": "markdown",
   "id": "9a7f072e",
   "metadata": {},
   "source": [
    "vẽ biểu đồ của 20 dòng đầu tiên"
   ]
  },
  {
   "cell_type": "code",
   "execution_count": 63,
   "id": "60b5a497",
   "metadata": {},
   "outputs": [
    {
     "data": {
      "text/plain": [
       "<AxesSubplot:>"
      ]
     },
     "execution_count": 63,
     "metadata": {},
     "output_type": "execute_result"
    },
    {
     "data": {
      "image/png": "[encoded data removed]",
      "text/plain": [
       "<Figure size 432x288 with 1 Axes>"
      ]
     },
     "metadata": {
      "needs_background": "light"
     },
     "output_type": "display_data"
    }
   ],
   "source": [
    "cc_df.head(20).plot.barh()"
   ]
  },
  {
   "cell_type": "markdown",
   "id": "576f6bf8",
   "metadata": {},
   "source": [
    "Nhận xét: Mã US có số lượng users nhiều nhất (nhiều khoảng gấp đôi vị trí thứ hai là VN)"
   ]
  },
  {
   "cell_type": "code",
   "execution_count": null,
   "id": "f7e55c55",
   "metadata": {},
   "outputs": [],
   "source": []
  }
 ],
 "metadata": {
  "kernelspec": {
   "display_name": "Python 3 (ipykernel)",
   "language": "python",
   "name": "python3"
  },
  "language_info": {
   "codemirror_mode": {
    "name": "ipython",
    "version": 3
   },
   "file_extension": ".py",
   "mimetype": "text/x-python",
   "name": "python",
   "nbconvert_exporter": "python",
   "pygments_lexer": "ipython3",
   "version": "3.8.8"
  }
 },
 "nbformat": 4,
 "nbformat_minor": 5
}
