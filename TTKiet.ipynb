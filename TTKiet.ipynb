{
 "cells": [
  {
   "cell_type": "code",
   "execution_count": 1,
   "id": "91a6a05e",
   "metadata": {},
   "outputs": [],
   "source": [
    "import pandas as pd\n",
    "import numpy as np\n",
    "import matplotlib.pyplot as plt"
   ]
  },
  {
   "cell_type": "code",
   "execution_count": 2,
   "id": "2165067a",
   "metadata": {},
   "outputs": [],
   "source": [
    "#playlists_df = pd.read_csv('playlists_new.csv')\n",
    "tracks_df = pd.read_csv('tracks_new.csv', index_col='Unnamed: 0')\n",
    "#users_df = pd.read_csv('users_new.csv')"
   ]
  },
  {
   "cell_type": "code",
   "execution_count": 3,
   "id": "8317ec9c",
   "metadata": {},
   "outputs": [
    {
     "data": {
      "text/plain": [
       "(6479, 37)"
      ]
     },
     "execution_count": 3,
     "metadata": {},
     "output_type": "execute_result"
    }
   ],
   "source": [
    "tracks_df.shape"
   ]
  },
  {
   "cell_type": "markdown",
   "id": "775a2767",
   "metadata": {},
   "source": [
    "Giả sử, một người nghe lại bài hát đó chỉ khi người đó đã like\n",
    "Nên: số lượt like phải nhỏ hơn lượt nghe lại. \n",
    "Kiểm tra giả thuyết này, nếu số dòng đủ nhỏ ta có thể remove"
   ]
  },
  {
   "cell_type": "code",
   "execution_count": 4,
   "id": "80a46292",
   "metadata": {},
   "outputs": [
    {
     "data": {
      "text/plain": [
       "(4, 37)"
      ]
     },
     "execution_count": 4,
     "metadata": {},
     "output_type": "execute_result"
    }
   ],
   "source": [
    "tracks_df[tracks_df['likes_count'] > tracks_df['playback_count']].shape"
   ]
  },
  {
   "cell_type": "markdown",
   "id": "37b5b87c",
   "metadata": {},
   "source": [
    "Tiến hành loại bỏ các dòng này."
   ]
  },
  {
   "cell_type": "code",
   "execution_count": 5,
   "id": "8fa7d312",
   "metadata": {},
   "outputs": [
    {
     "data": {
      "text/plain": [
       "(6279, 37)"
      ]
     },
     "execution_count": 5,
     "metadata": {},
     "output_type": "execute_result"
    }
   ],
   "source": [
    "tracks_df = tracks_df[tracks_df['likes_count'] < tracks_df['playback_count']]\n",
    "tracks_df.shape"
   ]
  },
  {
   "cell_type": "markdown",
   "id": "aba6c101",
   "metadata": {},
   "source": [
    "Loại bỏ các dòng có title trùng, giữ dòng đầu tiên"
   ]
  },
  {
   "cell_type": "code",
   "execution_count": 6,
   "id": "eff4c56b",
   "metadata": {},
   "outputs": [
    {
     "data": {
      "text/plain": [
       "(5349, 37)"
      ]
     },
     "execution_count": 6,
     "metadata": {},
     "output_type": "execute_result"
    }
   ],
   "source": [
    "tracks_df.drop_duplicates(subset=['title'], keep='first', inplace=True)\n",
    "tracks_df.shape"
   ]
  },
  {
   "cell_type": "markdown",
   "id": "ab3a64ae",
   "metadata": {},
   "source": [
    "Tìm tên của 20 tracks được like nhiều nhất và xếp thứ tự giảm dần likes_count"
   ]
  },
  {
   "cell_type": "code",
   "execution_count": 7,
   "id": "1fd21f89",
   "metadata": {},
   "outputs": [
    {
     "data": {
      "text/html": [
       "<div>\n",
       "<style scoped>\n",
       "    .dataframe tbody tr th:only-of-type {\n",
       "        vertical-align: middle;\n",
       "    }\n",
       "\n",
       "    .dataframe tbody tr th {\n",
       "        vertical-align: top;\n",
       "    }\n",
       "\n",
       "    .dataframe thead th {\n",
       "        text-align: right;\n",
       "    }\n",
       "</style>\n",
       "<table border=\"1\" class=\"dataframe\">\n",
       "  <thead>\n",
       "    <tr style=\"text-align: right;\">\n",
       "      <th></th>\n",
       "      <th>title</th>\n",
       "      <th>likes_count</th>\n",
       "    </tr>\n",
       "    <tr>\n",
       "      <th>Unnamed: 0</th>\n",
       "      <th></th>\n",
       "      <th></th>\n",
       "    </tr>\n",
       "  </thead>\n",
       "  <tbody>\n",
       "    <tr>\n",
       "      <th>1364</th>\n",
       "      <td>Major Lazer &amp; DJ Snake - Lean On (feat. MØ)</td>\n",
       "      <td>3055218.0</td>\n",
       "    </tr>\n",
       "    <tr>\n",
       "      <th>2959</th>\n",
       "      <td>Desiigner- \"Panda\" (Prod. By: Menace)</td>\n",
       "      <td>2904933.0</td>\n",
       "    </tr>\n",
       "    <tr>\n",
       "      <th>2918</th>\n",
       "      <td>Remy Boyz - My Way RMX Ft. Drake</td>\n",
       "      <td>1507429.0</td>\n",
       "    </tr>\n",
       "    <tr>\n",
       "      <th>2856</th>\n",
       "      <td>Martin Garrix &amp; Bebe Rexha - In The Name Of Love</td>\n",
       "      <td>1386074.0</td>\n",
       "    </tr>\n",
       "    <tr>\n",
       "      <th>2913</th>\n",
       "      <td>Gucci Mane - Both (Ft. Drake)</td>\n",
       "      <td>1191522.0</td>\n",
       "    </tr>\n",
       "    <tr>\n",
       "      <th>2896</th>\n",
       "      <td>Alone (Original Mix)</td>\n",
       "      <td>1047919.0</td>\n",
       "    </tr>\n",
       "    <tr>\n",
       "      <th>2899</th>\n",
       "      <td>Major Lazer - Light It Up (Feat. NYLA &amp; Fuse O...</td>\n",
       "      <td>969743.0</td>\n",
       "    </tr>\n",
       "    <tr>\n",
       "      <th>243</th>\n",
       "      <td>Sunset Lover</td>\n",
       "      <td>882370.0</td>\n",
       "    </tr>\n",
       "    <tr>\n",
       "      <th>3008</th>\n",
       "      <td>Skrillex &amp; Rick Ross - Purple Lamborghini</td>\n",
       "      <td>702231.0</td>\n",
       "    </tr>\n",
       "    <tr>\n",
       "      <th>2880</th>\n",
       "      <td>The Chainsmokers ft. Daya - Don't Let Me Down ...</td>\n",
       "      <td>654209.0</td>\n",
       "    </tr>\n",
       "    <tr>\n",
       "      <th>10883</th>\n",
       "      <td>Alan Walker - Fade [NCS Release]</td>\n",
       "      <td>646788.0</td>\n",
       "    </tr>\n",
       "    <tr>\n",
       "      <th>269</th>\n",
       "      <td>Gold</td>\n",
       "      <td>632056.0</td>\n",
       "    </tr>\n",
       "    <tr>\n",
       "      <th>2138</th>\n",
       "      <td>David Guetta ft. Sam Martin - Dangerous (Robin...</td>\n",
       "      <td>630993.0</td>\n",
       "    </tr>\n",
       "    <tr>\n",
       "      <th>300</th>\n",
       "      <td>Alina Baraz &amp; Galimatias - Fantasy</td>\n",
       "      <td>518085.0</td>\n",
       "    </tr>\n",
       "    <tr>\n",
       "      <th>10161</th>\n",
       "      <td>Are You With Me</td>\n",
       "      <td>510490.0</td>\n",
       "    </tr>\n",
       "    <tr>\n",
       "      <th>10303</th>\n",
       "      <td>Kaskade ft. Ilsey - Disarm You (Illenium Remix)</td>\n",
       "      <td>500945.0</td>\n",
       "    </tr>\n",
       "    <tr>\n",
       "      <th>359</th>\n",
       "      <td>BEBE (ft. Anuel AA)</td>\n",
       "      <td>481627.0</td>\n",
       "    </tr>\n",
       "    <tr>\n",
       "      <th>10331</th>\n",
       "      <td>kali uchis - ridin round ft. tory lanez (oshi ...</td>\n",
       "      <td>475564.0</td>\n",
       "    </tr>\n",
       "    <tr>\n",
       "      <th>10354</th>\n",
       "      <td>Jai Wolf - Indian Summer</td>\n",
       "      <td>450585.0</td>\n",
       "    </tr>\n",
       "    <tr>\n",
       "      <th>10891</th>\n",
       "      <td>Alan Walker - Spectre [NCS Release]</td>\n",
       "      <td>422038.0</td>\n",
       "    </tr>\n",
       "  </tbody>\n",
       "</table>\n",
       "</div>"
      ],
      "text/plain": [
       "                                                        title  likes_count\n",
       "Unnamed: 0                                                                \n",
       "1364              Major Lazer & DJ Snake - Lean On (feat. MØ)    3055218.0\n",
       "2959                    Desiigner- \"Panda\" (Prod. By: Menace)    2904933.0\n",
       "2918                         Remy Boyz - My Way RMX Ft. Drake    1507429.0\n",
       "2856         Martin Garrix & Bebe Rexha - In The Name Of Love    1386074.0\n",
       "2913                            Gucci Mane - Both (Ft. Drake)    1191522.0\n",
       "2896                                     Alone (Original Mix)    1047919.0\n",
       "2899        Major Lazer - Light It Up (Feat. NYLA & Fuse O...     969743.0\n",
       "243                                              Sunset Lover     882370.0\n",
       "3008                Skrillex & Rick Ross - Purple Lamborghini     702231.0\n",
       "2880        The Chainsmokers ft. Daya - Don't Let Me Down ...     654209.0\n",
       "10883                        Alan Walker - Fade [NCS Release]     646788.0\n",
       "269                                                      Gold     632056.0\n",
       "2138        David Guetta ft. Sam Martin - Dangerous (Robin...     630993.0\n",
       "300                        Alina Baraz & Galimatias - Fantasy     518085.0\n",
       "10161                                         Are You With Me     510490.0\n",
       "10303         Kaskade ft. Ilsey - Disarm You (Illenium Remix)     500945.0\n",
       "359                                       BEBE (ft. Anuel AA)     481627.0\n",
       "10331       kali uchis - ridin round ft. tory lanez (oshi ...     475564.0\n",
       "10354                                Jai Wolf - Indian Summer     450585.0\n",
       "10891                     Alan Walker - Spectre [NCS Release]     422038.0"
      ]
     },
     "execution_count": 7,
     "metadata": {},
     "output_type": "execute_result"
    }
   ],
   "source": [
    "top_likes = tracks_df.sort_values(by='likes_count', ascending=False)\n",
    "top_likes[['title','likes_count']].head(20)"
   ]
  },
  {
   "cell_type": "markdown",
   "id": "0e0dda11",
   "metadata": {},
   "source": [
    "Nhập vào danh sách tên các nghệ sĩ, tìm tổng số lượt like của các nghệ sĩ này:\n",
    "- Giả sử tên của nghệ sĩ phải nằm trong 'title'\n",
    "- Đối với các dòng duplicate 'title', không remove duplicate mà vẫn giữ nguyên để xử lí\n",
    "- Có thể có nhiều nghệ sĩ tham gia trong cùng 1 title\n",
    "- Kết quả trả ra sắp xếp giảm dần số lượt like"
   ]
  },
  {
   "cell_type": "code",
   "execution_count": 8,
   "id": "1ac07447",
   "metadata": {},
   "outputs": [],
   "source": [
    "def top_artists(artists):\n",
    "    artists_df = pd.DataFrame(columns=['sum_likes_count'], index = artists)\n",
    "    for artist in artists:\n",
    "        artists_df.loc[artist, 'sum_likes_count'] = 0\n",
    "    \n",
    "    for i in tracks_df.index:\n",
    "        for artist in artists:\n",
    "            a = tracks_df.loc[i, 'title'].find(artist)\n",
    "            if a >= 0:#found\n",
    "                artists_df.loc[artist,'sum_likes_count']=artists_df.loc[artist,'sum_likes_count']+tracks_df.loc[i, 'likes_count']\n",
    "        \n",
    "    artists_df.sort_values(by='sum_likes_count',ascending=False, inplace=True)\n",
    "    return artists_df     "
   ]
  },
  {
   "cell_type": "code",
   "execution_count": 9,
   "id": "7fdcf0f8",
   "metadata": {},
   "outputs": [
    {
     "data": {
      "text/html": [
       "<div>\n",
       "<style scoped>\n",
       "    .dataframe tbody tr th:only-of-type {\n",
       "        vertical-align: middle;\n",
       "    }\n",
       "\n",
       "    .dataframe tbody tr th {\n",
       "        vertical-align: top;\n",
       "    }\n",
       "\n",
       "    .dataframe thead th {\n",
       "        text-align: right;\n",
       "    }\n",
       "</style>\n",
       "<table border=\"1\" class=\"dataframe\">\n",
       "  <thead>\n",
       "    <tr style=\"text-align: right;\">\n",
       "      <th></th>\n",
       "      <th>sum_likes_count</th>\n",
       "    </tr>\n",
       "  </thead>\n",
       "  <tbody>\n",
       "    <tr>\n",
       "      <th>Snake</th>\n",
       "      <td>3420625.0</td>\n",
       "    </tr>\n",
       "    <tr>\n",
       "      <th>Martin Garrix</th>\n",
       "      <td>1541333.0</td>\n",
       "    </tr>\n",
       "    <tr>\n",
       "      <th>Alan Walker</th>\n",
       "      <td>1290670.0</td>\n",
       "    </tr>\n",
       "    <tr>\n",
       "      <th>Chainsmokers</th>\n",
       "      <td>945538.0</td>\n",
       "    </tr>\n",
       "  </tbody>\n",
       "</table>\n",
       "</div>"
      ],
      "text/plain": [
       "              sum_likes_count\n",
       "Snake               3420625.0\n",
       "Martin Garrix       1541333.0\n",
       "Alan Walker         1290670.0\n",
       "Chainsmokers         945538.0"
      ]
     },
     "execution_count": 9,
     "metadata": {},
     "output_type": "execute_result"
    }
   ],
   "source": [
    "artists = ['Snake','Martin Garrix','Chainsmokers','Alan Walker']\n",
    "top_artists_df = top_artists(artists)\n",
    "top_artists_df "
   ]
  },
  {
   "cell_type": "markdown",
   "id": "6117226e",
   "metadata": {},
   "source": [
    "Mục đích: tìm hiểu số lượt like của thần tượng để cày view"
   ]
  },
  {
   "cell_type": "markdown",
   "id": "1b4c1422",
   "metadata": {},
   "source": [
    "Người dùng thường dựa vào likes_count hoặc playback_count để đánh giá sự phổ biến của một bài hát. Kiểm tra trong top 'x' likes_count nhiều nhất với top 'x' playback_count và sự chênh lệch là bao nhiêu. Với x là top 10, 100, 1000"
   ]
  },
  {
   "cell_type": "code",
   "execution_count": 10,
   "id": "5420d1aa",
   "metadata": {},
   "outputs": [],
   "source": [
    "def top_ratio(first:int):\n",
    "    top_likes = tracks_df.sort_values(by='likes_count', ascending=False).head(first)\n",
    "    top_pb = tracks_df.sort_values(by='playback_count', ascending=False).head(first)\n",
    "    top_likes = top_likes.append(top_pb)\n",
    "    dup = top_likes.duplicated(keep='first').value_counts()[True]\n",
    "    return dup/first"
   ]
  },
  {
   "cell_type": "code",
   "execution_count": 11,
   "id": "095caac5",
   "metadata": {},
   "outputs": [
    {
     "name": "stdout",
     "output_type": "stream",
     "text": [
      "Tỉ lệ trùng nhau của top 10:  0.8\n",
      "Tỉ lệ trùng nhau của top 100:  0.88\n",
      "Tỉ lệ trùng nhau của top 1000:  0.85\n"
     ]
    }
   ],
   "source": [
    "print('Tỉ lệ trùng nhau của top 10: ', top_ratio(10))\n",
    "print('Tỉ lệ trùng nhau của top 100: ', top_ratio(100))\n",
    "print('Tỉ lệ trùng nhau của top 1000: ', top_ratio(1000))"
   ]
  },
  {
   "cell_type": "markdown",
   "id": "72a6e0ee",
   "metadata": {},
   "source": [
    "Kết luận: nếu một bài hát nằm trong top những bài hát có lượt likes_counts cao nhất, không có nghĩa là nó cũng sẽ nằm trong top lượt playback_counts cao nhất"
   ]
  },
  {
   "cell_type": "code",
   "execution_count": null,
   "id": "a454b848",
   "metadata": {},
   "outputs": [],
   "source": []
  }
 ],
 "metadata": {
  "kernelspec": {
   "display_name": "Python 3 (ipykernel)",
   "language": "python",
   "name": "python3"
  },
  "language_info": {
   "codemirror_mode": {
    "name": "ipython",
    "version": 3
   },
   "file_extension": ".py",
   "mimetype": "text/x-python",
   "name": "python",
   "nbconvert_exporter": "python",
   "pygments_lexer": "ipython3",
   "version": "3.8.8"
  }
 },
 "nbformat": 4,
 "nbformat_minor": 5
}
