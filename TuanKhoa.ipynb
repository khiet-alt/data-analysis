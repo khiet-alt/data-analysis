{
 "cells": [
  {
   "cell_type": "markdown",
   "id": "590a85aa",
   "metadata": {},
   "source": [
    "# PROJECT 02: PHÂN TÍCH DỮ LIỆU\n",
    "- Lê Minh Hữu - 19120525\n",
    "- Ninh Duy Huy - 19120533\n",
    "- Cao Thanh Khiết - 19120544\n",
    "- Nguyễn Tuấn Khoa - 19120547\n",
    "- Trần Tuấn Kiệt - 19120557\n"
   ]
  },
  {
   "cell_type": "markdown",
   "id": "e472dc72",
   "metadata": {},
   "source": [
    "## TIỀN XỬ LÝ DỮ LIỆU"
   ]
  },
  {
   "cell_type": "code",
   "execution_count": 1,
   "id": "d04a7a72",
   "metadata": {},
   "outputs": [],
   "source": [
    "import matplotlib.pyplot as plt\n",
    "import pandas as pd\n",
    "import numpy as np"
   ]
  },
  {
   "cell_type": "code",
   "execution_count": null,
   "id": "198fc18e",
   "metadata": {},
   "outputs": [],
   "source": [
    "playlists_df = pd.read_csv(\"data/playlists.csv\", sep=\",\")\n",
    "tracks_df = pd.read_csv(\"data/tracks.csv\", sep=\",\")\n",
    "users_df = pd.read_csv(\"data/users.csv\", sep=\",\")"
   ]
  },
  {
   "cell_type": "code",
   "execution_count": null,
   "id": "da4af1e1",
   "metadata": {},
   "outputs": [
    {
     "name": "stdout",
     "output_type": "stream",
     "text": [
      "(744, 3)\n",
      "\n",
      "(12946, 45)\n",
      "\n",
      "(451, 33)\n"
     ]
    }
   ],
   "source": [
    "print(playlists_df.shape)\n",
    "print()\n",
    "print(tracks_df.shape)\n",
    "print()\n",
    "print(users_df.shape)"
   ]
  },
  {
   "cell_type": "code",
   "execution_count": null,
   "id": "3849b75f",
   "metadata": {},
   "outputs": [],
   "source": [
    "# delete some row with missing values more than the given ratio\n",
    "def preprocess_data(old_df, ratio):\n",
    "    attributes = list(old_df.columns)\n",
    "    row = len(old_df.index)\n",
    "    col = len(attributes)\n",
    "\n",
    "    a = []\n",
    "    arr=[]\n",
    "    for i in range(row):\n",
    "        for j in range(col):\n",
    "            a.append(old_df[attributes[j]][i])\n",
    "        arr.append(a)\n",
    "        a = []\n",
    "\n",
    "    result_arr = []\n",
    "    temp_a = []\n",
    "    for i in range(row):\n",
    "        for j in range(col):\n",
    "            temp_a.append(arr[i][j])\n",
    "        result_arr.append(temp_a)\n",
    "        temp_a = []\n",
    "# xóa dòng\n",
    "    for value in arr:\n",
    "        count_missing = 0\n",
    "        for i in value:\n",
    "            if i == 'None' or i!=i :\n",
    "                count_missing +=1\n",
    "        if (count_missing / col) > ratio:\n",
    "            result_arr.remove(value)\n",
    "# xóa cột\n",
    "    new_row = len(result_arr)\n",
    "    temp_arr = []\n",
    "    temp_a = []\n",
    "    for i in range(new_row):\n",
    "        for j in range(col):\n",
    "            temp_a.append(result_arr[i][j])\n",
    "        temp_arr.append(temp_a)\n",
    "        temp_a = []\n",
    "\n",
    "    count_del_col = 0 #biến đếm các cột đã bị xóa\n",
    "    for i in range(col):\n",
    "        count_missing = 0\n",
    "        for j in range(new_row):\n",
    "            if temp_arr[j][i] != temp_arr[j][i] or temp_arr[j][i] == 'None':\n",
    "                count_missing += 1\n",
    "        if (count_missing /new_row) > ratio:\n",
    "            del attributes[i-count_del_col]\n",
    "            for r in result_arr:\n",
    "                del r[i-count_del_col]\n",
    "            count_del_col += 1\n",
    "\n",
    "    # tạo một DataFrame mới để lưu kết quả\n",
    "    new_data = {}\n",
    "    new_row = len(result_arr)\n",
    "    for i in range(len(attributes)):\n",
    "        new_data[attributes[i]] = [result_arr[j][i] for j in range(new_row)] \n",
    "\n",
    "    new_df = pd.DataFrame(new_data, columns = attributes)\n",
    "    return new_df\n"
   ]
  },
  {
   "cell_type": "code",
   "execution_count": null,
   "id": "ba42e7e1",
   "metadata": {},
   "outputs": [],
   "source": [
    "playlists_new = preprocess_data(playlists_df,0.5)\n",
    "tracks_new = preprocess_data(tracks_df,0.5)\n",
    "users_new = preprocess_data(users_df,0.5)"
   ]
  },
  {
   "cell_type": "code",
   "execution_count": null,
   "id": "b008976c",
   "metadata": {},
   "outputs": [],
   "source": [
    "# ghi dataframe ra file mới\n",
    "playlists_new.to_csv('playlists_new.csv', index = False, header = True)\n",
    "tracks_new.to_csv('tracks_new.csv', index = False, header = True)\n",
    "users_new.to_csv('users_new.csv', index = False, header = True)"
   ]
  },
  {
   "cell_type": "code",
   "execution_count": null,
   "id": "70a83cd8",
   "metadata": {},
   "outputs": [
    {
     "name": "stdout",
     "output_type": "stream",
     "text": [
      "(744, 3)\n",
      "\n",
      "(6479, 38)\n",
      "\n",
      "(222, 32)\n"
     ]
    }
   ],
   "source": [
    "print(playlists_new.shape)\n",
    "print()\n",
    "print(tracks_new.shape)\n",
    "print()\n",
    "print(users_new.shape)"
   ]
  },
  {
   "cell_type": "markdown",
   "id": "3a257ef4",
   "metadata": {},
   "source": [
    "1. Top 100 các tracks được download nhiều nhất vẽ biểu đồ histogram để thể hiện các tracks có số lượng download ở khoảng bao nhiêu chiếm đa số\n",
    "   - Trước khi trả lời câu hỏi này ta sẽ xác định một số ý như sau\n",
    "        - Các số liệu đã được xác định\n",
    "        - Ứng dụng câu hỏi là tìm ra các tracks được ưa chuộng nhất\n",
    "        - Câu hỏi có thể trả lời với dữ liệu có sẵn"
   ]
  },
  {
   "cell_type": "code",
   "execution_count": null,
   "id": "4a5c8fc9",
   "metadata": {},
   "outputs": [],
   "source": [
    "My_tracks = tracks_new"
   ]
  },
  {
   "cell_type": "markdown",
   "id": "ddea65d6",
   "metadata": {},
   "source": [
    "Ta cần tiền xử lý một vài dữ liệu bất hợp lý\n",
    "- Bỏ đi những dòng có dữ liệu bất hợp lý đó là những dòng có downloadable là False nhưng dòng download_count vẫn có giá trị khác 0.0\n",
    "- Loại bỏ đi những dòng có giá trị là 0.0 hay NaN trong cột download_count\n",
    "- Loại bỏ đi những dòng trùng nhau và giữ lại dòng xuất hiện đầu tiên"
   ]
  },
  {
   "cell_type": "code",
   "execution_count": null,
   "id": "979e64f7",
   "metadata": {},
   "outputs": [],
   "source": [
    "My_tracks = My_tracks[My_tracks['downloadable'] == True]\n",
    "My_tracks = My_tracks[My_tracks['download_count'].isna() == False]\n",
    "My_tracks = My_tracks[My_tracks['download_count'] != 0.0]"
   ]
  },
  {
   "cell_type": "markdown",
   "id": "4f6b46fe",
   "metadata": {},
   "source": [
    "Tiếp theo ta sẽ sắp xếp lại theo thứ tự giảm dần rồi chọn 100 dòng đầu tiên"
   ]
  },
  {
   "cell_type": "code",
   "execution_count": null,
   "id": "55ddbf36",
   "metadata": {},
   "outputs": [
    {
     "data": {
      "text/html": [
       "<div>\n",
       "<style scoped>\n",
       "    .dataframe tbody tr th:only-of-type {\n",
       "        vertical-align: middle;\n",
       "    }\n",
       "\n",
       "    .dataframe tbody tr th {\n",
       "        vertical-align: top;\n",
       "    }\n",
       "\n",
       "    .dataframe thead th {\n",
       "        text-align: right;\n",
       "    }\n",
       "</style>\n",
       "<table border=\"1\" class=\"dataframe\">\n",
       "  <thead>\n",
       "    <tr style=\"text-align: right;\">\n",
       "      <th></th>\n",
       "      <th>download_count</th>\n",
       "      <th>title</th>\n",
       "    </tr>\n",
       "  </thead>\n",
       "  <tbody>\n",
       "    <tr>\n",
       "      <th>265</th>\n",
       "      <td>179055.0</td>\n",
       "      <td>Janet Jackson - If (Kaytranada Remix)</td>\n",
       "    </tr>\n",
       "    <tr>\n",
       "      <th>2116</th>\n",
       "      <td>59269.0</td>\n",
       "      <td>Sylvan Esso - Hey Mami (Big Wild Remix)</td>\n",
       "    </tr>\n",
       "    <tr>\n",
       "      <th>5482</th>\n",
       "      <td>30271.0</td>\n",
       "      <td>Summer Mix | Best Of Kygo Mix 2021 | Best Of Tropical Deep House Music Chill Out 2021</td>\n",
       "    </tr>\n",
       "    <tr>\n",
       "      <th>2174</th>\n",
       "      <td>24819.0</td>\n",
       "      <td>MAX: THEME performed by HEALTH</td>\n",
       "    </tr>\n",
       "    <tr>\n",
       "      <th>5560</th>\n",
       "      <td>13505.0</td>\n",
       "      <td>Kygo Mix 2021 - Summer Mix 2021 - Best Deep &amp; Tropical House Chill Out Dance Music Mix 2021</td>\n",
       "    </tr>\n",
       "    <tr>\n",
       "      <th>...</th>\n",
       "      <td>...</td>\n",
       "      <td>...</td>\n",
       "    </tr>\n",
       "    <tr>\n",
       "      <th>4549</th>\n",
       "      <td>416.0</td>\n",
       "      <td>Boom Bust: US susceptible to energy crisis &amp; Twitch hit by major leak</td>\n",
       "    </tr>\n",
       "    <tr>\n",
       "      <th>5258</th>\n",
       "      <td>415.0</td>\n",
       "      <td>Going Underground: How much is Pakistan aiding the Taliban’s takeover of Afghanistan?</td>\n",
       "    </tr>\n",
       "    <tr>\n",
       "      <th>4613</th>\n",
       "      <td>414.0</td>\n",
       "      <td>Going Underground: B.Johnson’s arrogant, response to Covid-19 was ‘social murder’– Prof. John Ashton</td>\n",
       "    </tr>\n",
       "    <tr>\n",
       "      <th>5236</th>\n",
       "      <td>413.0</td>\n",
       "      <td>Redacted Tonight: The real winner from the Afghanistan war, record breaking heat, Nabisco on strike</td>\n",
       "    </tr>\n",
       "    <tr>\n",
       "      <th>4660</th>\n",
       "      <td>412.0</td>\n",
       "      <td>Boom Bust: US slams Chinese hackers &amp; UK celebrates ‘Freedom Day’</td>\n",
       "    </tr>\n",
       "  </tbody>\n",
       "</table>\n",
       "<p>100 rows × 2 columns</p>\n",
       "</div>"
      ],
      "text/plain": [
       "      download_count  \\\n",
       "265         179055.0   \n",
       "2116         59269.0   \n",
       "5482         30271.0   \n",
       "2174         24819.0   \n",
       "5560         13505.0   \n",
       "...              ...   \n",
       "4549           416.0   \n",
       "5258           415.0   \n",
       "4613           414.0   \n",
       "5236           413.0   \n",
       "4660           412.0   \n",
       "\n",
       "                                                                                                     title  \n",
       "265                                                                  Janet Jackson - If (Kaytranada Remix)  \n",
       "2116                                                               Sylvan Esso - Hey Mami (Big Wild Remix)  \n",
       "5482                 Summer Mix | Best Of Kygo Mix 2021 | Best Of Tropical Deep House Music Chill Out 2021  \n",
       "2174                                                                        MAX: THEME performed by HEALTH  \n",
       "5560           Kygo Mix 2021 - Summer Mix 2021 - Best Deep & Tropical House Chill Out Dance Music Mix 2021  \n",
       "...                                                                                                    ...  \n",
       "4549                                 Boom Bust: US susceptible to energy crisis & Twitch hit by major leak  \n",
       "5258                 Going Underground: How much is Pakistan aiding the Taliban’s takeover of Afghanistan?  \n",
       "4613  Going Underground: B.Johnson’s arrogant, response to Covid-19 was ‘social murder’– Prof. John Ashton  \n",
       "5236   Redacted Tonight: The real winner from the Afghanistan war, record breaking heat, Nabisco on strike  \n",
       "4660                                     Boom Bust: US slams Chinese hackers & UK celebrates ‘Freedom Day’  \n",
       "\n",
       "[100 rows x 2 columns]"
      ]
     },
     "execution_count": 46,
     "metadata": {},
     "output_type": "execute_result"
    }
   ],
   "source": [
    "My_df = My_tracks[['download_count', 'title']]\n",
    "My_df = My_df.drop_duplicates(subset=['download_count', 'title'], keep='first')\n",
    "My_df = My_df.sort_values(by='download_count', ascending=False)\n",
    "My_df = My_df.head(100)\n",
    "My_df"
   ]
  },
  {
   "cell_type": "code",
   "execution_count": null,
   "id": "2cc5c07a",
   "metadata": {},
   "outputs": [
    {
     "data": {
      "image/png": "[encoded data removed]",
      "text/plain": [
       "<Figure size 432x288 with 1 Axes>"
      ]
     },
     "metadata": {
      "needs_background": "light"
     },
     "output_type": "display_data"
    }
   ],
   "source": [
    "plt.hist(My_df['download_count'], bins=100)\n",
    "plt.show()"
   ]
  },
  {
   "cell_type": "markdown",
   "id": "1c498a7b",
   "metadata": {},
   "source": [
    "Nhận xét: số lượng download các tracks dao động trong khoang 400 đến 25000 chiếm đa số"
   ]
  },
  {
   "cell_type": "markdown",
   "id": "b4b5221c",
   "metadata": {},
   "source": [
    "2. Top 100 users có followers cao nhất và vẽ biểu đồ histogram để thể hiện các users có số lượng followers ở khoảng bao nhiêu chiếm đa số\n",
    "   - Trước khi trả lời câu hỏi này ta sẽ xác định một số ý như sau\n",
    "        - Các số liệu đã được xác định\n",
    "        - Ứng dụng câu hỏi là tìm ra users nổi tiếng và có nhiều sản phẩm âm nhạc được ưa thích\n",
    "        - Câu hỏi có thể trả lời với dữ liệu có sẵn"
   ]
  },
  {
   "cell_type": "code",
   "execution_count": null,
   "id": "5439ff03",
   "metadata": {},
   "outputs": [],
   "source": [
    "My_users = users_new"
   ]
  },
  {
   "cell_type": "markdown",
   "id": "635a3a94",
   "metadata": {},
   "source": [
    "Ta cần tiền xử lý một số dữ liệu bất hợp lý\n",
    "- Loại bỏ các dòng trùng nhau và giữ lại dòng xuất hiện đầu tiên"
   ]
  },
  {
   "cell_type": "code",
   "execution_count": null,
   "id": "d3604d58",
   "metadata": {},
   "outputs": [],
   "source": [
    "My_users = My_users[['followers_count', 'username']]\n",
    "My_users = My_users.drop_duplicates(subset=['followers_count', 'username'], keep='first')"
   ]
  },
  {
   "cell_type": "markdown",
   "id": "07a4f99b",
   "metadata": {},
   "source": [
    "Tiếp theo ta sẽ sắp xếp lại theo thứ tự giảm dần rồi chọn 100 dòng đầu tiên"
   ]
  },
  {
   "cell_type": "code",
   "execution_count": null,
   "id": "9f2f8498",
   "metadata": {},
   "outputs": [
    {
     "data": {
      "text/html": [
       "<div>\n",
       "<style scoped>\n",
       "    .dataframe tbody tr th:only-of-type {\n",
       "        vertical-align: middle;\n",
       "    }\n",
       "\n",
       "    .dataframe tbody tr th {\n",
       "        vertical-align: top;\n",
       "    }\n",
       "\n",
       "    .dataframe thead th {\n",
       "        text-align: right;\n",
       "    }\n",
       "</style>\n",
       "<table border=\"1\" class=\"dataframe\">\n",
       "  <thead>\n",
       "    <tr style=\"text-align: right;\">\n",
       "      <th></th>\n",
       "      <th>followers_count</th>\n",
       "      <th>username</th>\n",
       "    </tr>\n",
       "  </thead>\n",
       "  <tbody>\n",
       "    <tr>\n",
       "      <th>39</th>\n",
       "      <td>6015140.0</td>\n",
       "      <td>Mad Decent</td>\n",
       "    </tr>\n",
       "    <tr>\n",
       "      <th>189</th>\n",
       "      <td>4224746.0</td>\n",
       "      <td>Major Lazer</td>\n",
       "    </tr>\n",
       "    <tr>\n",
       "      <th>52</th>\n",
       "      <td>2432110.0</td>\n",
       "      <td>☆LiL PEEP☆</td>\n",
       "    </tr>\n",
       "    <tr>\n",
       "      <th>119</th>\n",
       "      <td>1403191.0</td>\n",
       "      <td>On Being Studios</td>\n",
       "    </tr>\n",
       "    <tr>\n",
       "      <th>141</th>\n",
       "      <td>1292596.0</td>\n",
       "      <td>Audible</td>\n",
       "    </tr>\n",
       "    <tr>\n",
       "      <th>...</th>\n",
       "      <td>...</td>\n",
       "      <td>...</td>\n",
       "    </tr>\n",
       "    <tr>\n",
       "      <th>87</th>\n",
       "      <td>4671.0</td>\n",
       "      <td>Hiderway</td>\n",
       "    </tr>\n",
       "    <tr>\n",
       "      <th>114</th>\n",
       "      <td>4512.0</td>\n",
       "      <td>MP3 Hypnose Gratuit</td>\n",
       "    </tr>\n",
       "    <tr>\n",
       "      <th>33</th>\n",
       "      <td>4490.0</td>\n",
       "      <td>NOAX 2</td>\n",
       "    </tr>\n",
       "    <tr>\n",
       "      <th>63</th>\n",
       "      <td>4188.0</td>\n",
       "      <td>DJ TANTENGG</td>\n",
       "    </tr>\n",
       "    <tr>\n",
       "      <th>174</th>\n",
       "      <td>4132.0</td>\n",
       "      <td>Радио Свобода</td>\n",
       "    </tr>\n",
       "  </tbody>\n",
       "</table>\n",
       "<p>100 rows × 2 columns</p>\n",
       "</div>"
      ],
      "text/plain": [
       "     followers_count             username\n",
       "39         6015140.0           Mad Decent\n",
       "189        4224746.0          Major Lazer\n",
       "52         2432110.0           ☆LiL PEEP☆\n",
       "119        1403191.0     On Being Studios\n",
       "141        1292596.0              Audible\n",
       "..               ...                  ...\n",
       "87            4671.0             Hiderway\n",
       "114           4512.0  MP3 Hypnose Gratuit\n",
       "33            4490.0               NOAX 2\n",
       "63            4188.0          DJ TANTENGG\n",
       "174           4132.0        Радио Свобода\n",
       "\n",
       "[100 rows x 2 columns]"
      ]
     },
     "execution_count": 55,
     "metadata": {},
     "output_type": "execute_result"
    }
   ],
   "source": [
    "My_users = My_users.sort_values(by='followers_count', ascending=False)\n",
    "My_users = My_users.head(100)\n",
    "My_users"
   ]
  },
  {
   "cell_type": "code",
   "execution_count": null,
   "id": "42498471",
   "metadata": {},
   "outputs": [
    {
     "data": {
      "image/png": "[encoded data removed]",
      "text/plain": [
       "<Figure size 432x288 with 1 Axes>"
      ]
     },
     "metadata": {
      "needs_background": "light"
     },
     "output_type": "display_data"
    }
   ],
   "source": [
    "plt.hist(My_users['followers_count'], bins=100, color = \"skyblue\")\n",
    "plt.show()"
   ]
  },
  {
   "cell_type": "markdown",
   "id": "3a382199",
   "metadata": {},
   "source": [
    "Nhận xét: số lượng followers của các users dao động từ 4000 đến 1.000.000 chiếm đa số"
   ]
  }
 ],
 "metadata": {
  "kernelspec": {
   "display_name": "Python 3 (ipykernel)",
   "language": "python",
   "name": "python3"
  },
  "language_info": {
   "codemirror_mode": {
    "name": "ipython",
    "version": 3
   },
   "file_extension": ".py",
   "mimetype": "text/x-python",
   "name": "python",
   "nbconvert_exporter": "python",
   "pygments_lexer": "ipython3",
   "version": "3.8.8"
  }
 },
 "nbformat": 4,
 "nbformat_minor": 5
}
