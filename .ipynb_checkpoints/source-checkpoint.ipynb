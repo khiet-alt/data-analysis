{
 "cells": [
  {
   "cell_type": "markdown",
   "id": "590a85aa",
   "metadata": {},
   "source": [
    "# PROJECT 02: PHÂN TÍCH DỮ LIỆU\n",
    "- Lê Minh Hữu - 19120525\n",
    "- Ninh Duy Huy - 19120533\n",
    "- Cao Thanh Khiết - 19120544\n",
    "- Nguyễn Tuấn Khoa - 19120547\n",
    "- Trần Tuấn Kiệt - 19120557\n"
   ]
  },
  {
   "cell_type": "markdown",
   "id": "e472dc72",
   "metadata": {},
   "source": [
    "## TIỀN XỬ LÝ DỮ LIỆU"
   ]
  },
  {
   "cell_type": "code",
   "execution_count": 1,
   "id": "d04a7a72",
   "metadata": {},
   "outputs": [],
   "source": [
    "import matplotlib.pyplot as plt\n",
    "import pandas as pd\n",
    "import numpy as np"
   ]
  },
  {
   "cell_type": "code",
   "execution_count": 2,
   "id": "198fc18e",
   "metadata": {},
   "outputs": [],
   "source": [
    "playlists_df = pd.read_csv(\"data/playlists.csv\", sep=\",\")\n",
    "tracks_df = pd.read_csv(\"data/tracks.csv\", sep=\",\")\n",
    "users_df = pd.read_csv(\"data/users.csv\", sep=\",\")\n",
    "\n",
    "# configure matplotlib\n",
    "plt.rcParams[\"figure.figsize\"] = (15, 10)"
   ]
  },
  {
   "cell_type": "code",
   "execution_count": 3,
   "id": "da4af1e1",
   "metadata": {},
   "outputs": [
    {
     "name": "stdout",
     "output_type": "stream",
     "text": [
      "(608, 3)\n",
      "(6979, 45)\n",
      "(422, 33)\n"
     ]
    }
   ],
   "source": [
    "### Thông tin về số dòng và cột của dữ liệu ban đầu\n",
    "print(playlists_df.shape)\n",
    "print(tracks_df.shape)\n",
    "print(users_df.shape)"
   ]
  },
  {
   "cell_type": "code",
   "execution_count": 4,
   "id": "3849b75f",
   "metadata": {},
   "outputs": [],
   "source": [
    "# delete some row with missing values more than the given ratio\n",
    "def preprocess_data(old_df, ratio):\n",
    "    '''\n",
    "    Hàm này sẽ tiền xử lí dữ liệu, loại bỏ một vài dòng hoặc cột khi mất mát dữ liệu quá tỉ lệ cho trước\n",
    "    '''\n",
    "    attributes = list(old_df.columns)\n",
    "    row = len(old_df.index)\n",
    "    col = len(attributes)\n",
    "\n",
    "    a = []\n",
    "    arr=[]\n",
    "    for i in range(row):\n",
    "        for j in range(col):\n",
    "            a.append(old_df[attributes[j]][i])\n",
    "        arr.append(a)\n",
    "        a = []\n",
    "\n",
    "    result_arr = []\n",
    "    temp_a = []\n",
    "    for i in range(row):\n",
    "        for j in range(col):\n",
    "            temp_a.append(arr[i][j])\n",
    "        result_arr.append(temp_a)\n",
    "        temp_a = []\n",
    "# xóa dòng\n",
    "    for value in arr:\n",
    "        count_missing = 0\n",
    "        for i in value:\n",
    "            if i == 'None' or i!=i :\n",
    "                count_missing +=1\n",
    "        if (count_missing / col) > ratio:\n",
    "            result_arr.remove(value)\n",
    "# xóa cột\n",
    "    new_row = len(result_arr)\n",
    "    temp_arr = []\n",
    "    temp_a = []\n",
    "    for i in range(new_row):\n",
    "        for j in range(col):\n",
    "            temp_a.append(result_arr[i][j])\n",
    "        temp_arr.append(temp_a)\n",
    "        temp_a = []\n",
    "\n",
    "    count_del_col = 0 #biến đếm các cột đã bị xóa\n",
    "    for i in range(col):\n",
    "        count_missing = 0\n",
    "        for j in range(new_row):\n",
    "            if temp_arr[j][i] != temp_arr[j][i] or temp_arr[j][i] == 'None':\n",
    "                count_missing += 1\n",
    "        if (count_missing /new_row) > ratio:\n",
    "            del attributes[i-count_del_col]\n",
    "            for r in result_arr:\n",
    "                del r[i-count_del_col]\n",
    "            count_del_col += 1\n",
    "\n",
    "    # tạo một DataFrame mới để lưu kết quả\n",
    "    new_data = {}\n",
    "    new_row = len(result_arr)\n",
    "    for i in range(len(attributes)):\n",
    "        new_data[attributes[i]] = [result_arr[j][i] for j in range(new_row)] \n",
    "\n",
    "    new_df = pd.DataFrame(new_data, columns = attributes)\n",
    "    return new_df\n"
   ]
  },
  {
   "cell_type": "code",
   "execution_count": 5,
   "id": "ba42e7e1",
   "metadata": {},
   "outputs": [],
   "source": [
    "'''\n",
    "Tiền xử lí dữ liệu\n",
    "'''\n",
    "playlists_new = preprocess_data(playlists_df,0.5)\n",
    "tracks_new = preprocess_data(tracks_df,0.5)\n",
    "users_new = preprocess_data(users_df,0.5)"
   ]
  },
  {
   "cell_type": "code",
   "execution_count": 6,
   "id": "b008976c",
   "metadata": {},
   "outputs": [],
   "source": [
    "# ghi dataframe ra file mới\n",
    "playlists_new.to_csv('data/playlists_new.csv', index=False)\n",
    "tracks_new.to_csv('data/tracks_new.csv', index=False)\n",
    "users_new.to_csv('data/users_new.csv', index=False)"
   ]
  },
  {
   "cell_type": "code",
   "execution_count": 7,
   "id": "70a83cd8",
   "metadata": {},
   "outputs": [
    {
     "name": "stdout",
     "output_type": "stream",
     "text": [
      "(608, 3)\n",
      "(3485, 38)\n",
      "(216, 32)\n"
     ]
    }
   ],
   "source": [
    "'''\n",
    "File dữ liệu sau khi tiền xử lí cơ bản\n",
    "'''\n",
    "print(playlists_new.shape)\n",
    "print(tracks_new.shape)\n",
    "print(users_new.shape)"
   ]
  },
  {
   "cell_type": "markdown",
   "id": "3a257ef4",
   "metadata": {},
   "source": [
    "### Câu 1: top 100 các tracks được download nhiều nhất vẽ biểu đồ histogram để thể hiện các tracks có số lượng download ở khoảng bao nhiêu chiếm đa số\n",
    "   - Trước khi trả lời câu hỏi này ta sẽ xác định một số ý như sau\n",
    "        - Các số liệu đã được xác định\n",
    "        - Ứng dụng câu hỏi là tìm ra các tracks được ưa chuộng nhất\n",
    "        - Câu hỏi có thể trả lời với dữ liệu có sẵn"
   ]
  },
  {
   "cell_type": "code",
   "execution_count": 8,
   "id": "4a5c8fc9",
   "metadata": {},
   "outputs": [],
   "source": [
    "My_tracks = tracks_new"
   ]
  },
  {
   "cell_type": "markdown",
   "id": "ddea65d6",
   "metadata": {},
   "source": [
    "Ta cần tiền xử lý một vài dữ liệu bất hợp lý\n",
    "- Bỏ đi những dòng có dữ liệu bất hợp lý đó là những dòng có downloadable là False nhưng dòng download_count vẫn có giá trị khác 0.0\n",
    "- Loại bỏ đi những dòng có giá trị là 0.0 hay NaN trong cột download_count\n",
    "- Loại bỏ đi những dòng trùng nhau và giữ lại dòng xuất hiện đầu tiên"
   ]
  },
  {
   "cell_type": "code",
   "execution_count": 9,
   "id": "979e64f7",
   "metadata": {},
   "outputs": [],
   "source": [
    "My_tracks = My_tracks[My_tracks['downloadable'] == True]\n",
    "My_tracks = My_tracks[My_tracks['download_count'].isna() == False]\n",
    "My_tracks = My_tracks[My_tracks['download_count'] != 0.0]"
   ]
  },
  {
   "cell_type": "markdown",
   "id": "4f6b46fe",
   "metadata": {},
   "source": [
    "Tiếp theo ta sẽ sắp xếp lại theo thứ tự giảm dần rồi chọn 100 dòng đầu tiên"
   ]
  },
  {
   "cell_type": "code",
   "execution_count": 10,
   "id": "55ddbf36",
   "metadata": {},
   "outputs": [
    {
     "data": {
      "text/html": [
       "<div>\n",
       "<style scoped>\n",
       "    .dataframe tbody tr th:only-of-type {\n",
       "        vertical-align: middle;\n",
       "    }\n",
       "\n",
       "    .dataframe tbody tr th {\n",
       "        vertical-align: top;\n",
       "    }\n",
       "\n",
       "    .dataframe thead th {\n",
       "        text-align: right;\n",
       "    }\n",
       "</style>\n",
       "<table border=\"1\" class=\"dataframe\">\n",
       "  <thead>\n",
       "    <tr style=\"text-align: right;\">\n",
       "      <th></th>\n",
       "      <th>download_count</th>\n",
       "      <th>title</th>\n",
       "    </tr>\n",
       "  </thead>\n",
       "  <tbody>\n",
       "    <tr>\n",
       "      <th>715</th>\n",
       "      <td>94327.0</td>\n",
       "      <td>Better Days</td>\n",
       "    </tr>\n",
       "    <tr>\n",
       "      <th>2585</th>\n",
       "      <td>63685.0</td>\n",
       "      <td>ODESZA - My Friends Never Die</td>\n",
       "    </tr>\n",
       "    <tr>\n",
       "      <th>860</th>\n",
       "      <td>45030.0</td>\n",
       "      <td>The Process</td>\n",
       "    </tr>\n",
       "    <tr>\n",
       "      <th>844</th>\n",
       "      <td>28523.0</td>\n",
       "      <td>Good Morning</td>\n",
       "    </tr>\n",
       "    <tr>\n",
       "      <th>771</th>\n",
       "      <td>19074.0</td>\n",
       "      <td>Summertime Love</td>\n",
       "    </tr>\n",
       "    <tr>\n",
       "      <th>...</th>\n",
       "      <td>...</td>\n",
       "      <td>...</td>\n",
       "    </tr>\n",
       "    <tr>\n",
       "      <th>815</th>\n",
       "      <td>212.0</td>\n",
       "      <td>Pieza 7: Jueces</td>\n",
       "    </tr>\n",
       "    <tr>\n",
       "      <th>720</th>\n",
       "      <td>198.0</td>\n",
       "      <td>The Way - Instrumental Music Oud / موسيقى عود</td>\n",
       "    </tr>\n",
       "    <tr>\n",
       "      <th>855</th>\n",
       "      <td>189.0</td>\n",
       "      <td>Pieza 40: Mateo</td>\n",
       "    </tr>\n",
       "    <tr>\n",
       "      <th>813</th>\n",
       "      <td>176.0</td>\n",
       "      <td>Pieza 23: Isaías</td>\n",
       "    </tr>\n",
       "    <tr>\n",
       "      <th>810</th>\n",
       "      <td>173.0</td>\n",
       "      <td>Pieza 17: Nehemías</td>\n",
       "    </tr>\n",
       "  </tbody>\n",
       "</table>\n",
       "<p>100 rows × 2 columns</p>\n",
       "</div>"
      ],
      "text/plain": [
       "      download_count                                          title\n",
       "715          94327.0                                    Better Days\n",
       "2585         63685.0                  ODESZA - My Friends Never Die\n",
       "860          45030.0                                    The Process\n",
       "844          28523.0                                   Good Morning\n",
       "771          19074.0                                Summertime Love\n",
       "...              ...                                            ...\n",
       "815            212.0                                Pieza 7: Jueces\n",
       "720            198.0  The Way - Instrumental Music Oud / موسيقى عود\n",
       "855            189.0                                Pieza 40: Mateo\n",
       "813            176.0                               Pieza 23: Isaías\n",
       "810            173.0                            Pieza 17: Nehemías\n",
       "\n",
       "[100 rows x 2 columns]"
      ]
     },
     "execution_count": 10,
     "metadata": {},
     "output_type": "execute_result"
    }
   ],
   "source": [
    "My_df = My_tracks[['download_count', 'title']]\n",
    "My_df = My_df.drop_duplicates(subset=['download_count', 'title'], keep='first')\n",
    "My_df = My_df.sort_values(by='download_count', ascending=False)\n",
    "My_df = My_df.head(100)\n",
    "My_df"
   ]
  },
  {
   "cell_type": "code",
   "execution_count": 11,
   "id": "2cc5c07a",
   "metadata": {},
   "outputs": [
    {
     "data": {
      "image/png": "[encoded data removed]",
      "text/plain": [
       "<Figure size 1080x720 with 1 Axes>"
      ]
     },
     "metadata": {
      "needs_background": "light"
     },
     "output_type": "display_data"
    }
   ],
   "source": [
    "My_df = My_df[My_df['download_count'] <= 6000]\n",
    "plt.hist(My_df['download_count'], bins=100)\n",
    "plt.show()"
   ]
  },
  {
   "cell_type": "markdown",
   "id": "1c498a7b",
   "metadata": {},
   "source": [
    "Ta cần lọc đi một số outlier để biểu đồ được rõ ràng hơn các outlier là những giá trị lớn hơn 6000\n",
    "- Nhận xét: \n",
    "    - Histogram thuộc dạng phân bố lệch trái\n",
    "    - Số lượng download các tracks dao động trong khoảng 0 đến 1000 chiếm đa số"
   ]
  },
  {
   "cell_type": "markdown",
   "id": "b4b5221c",
   "metadata": {},
   "source": [
    "### Câu 2:  top 100 users có followers cao nhất và vẽ biểu đồ histogram để thể hiện các users có số lượng followers ở khoảng bao nhiêu chiếm đa số\n",
    "   - Trước khi trả lời câu hỏi này ta sẽ xác định một số ý như sau\n",
    "        - Các số liệu đã được xác định\n",
    "        - Ứng dụng câu hỏi là tìm ra users nổi tiếng và có nhiều sản phẩm âm nhạc được ưa thích\n",
    "        - Câu hỏi có thể trả lời với dữ liệu có sẵn"
   ]
  },
  {
   "cell_type": "code",
   "execution_count": 12,
   "id": "5439ff03",
   "metadata": {},
   "outputs": [],
   "source": [
    "My_users = users_new"
   ]
  },
  {
   "cell_type": "markdown",
   "id": "635a3a94",
   "metadata": {},
   "source": [
    "Ta cần tiền xử lý một số dữ liệu bất hợp lý\n",
    "- Loại bỏ các dòng trùng nhau và giữ lại dòng xuất hiện đầu tiên"
   ]
  },
  {
   "cell_type": "code",
   "execution_count": 13,
   "id": "d3604d58",
   "metadata": {},
   "outputs": [],
   "source": [
    "My_users = My_users[['followers_count', 'username']]\n",
    "My_users = My_users.drop_duplicates(subset=['followers_count', 'username'], keep='first')"
   ]
  },
  {
   "cell_type": "markdown",
   "id": "07a4f99b",
   "metadata": {},
   "source": [
    "Tiếp theo ta sẽ sắp xếp lại theo thứ tự giảm dần rồi chọn 100 dòng đầu tiên"
   ]
  },
  {
   "cell_type": "code",
   "execution_count": 14,
   "id": "9f2f8498",
   "metadata": {},
   "outputs": [
    {
     "data": {
      "text/html": [
       "<div>\n",
       "<style scoped>\n",
       "    .dataframe tbody tr th:only-of-type {\n",
       "        vertical-align: middle;\n",
       "    }\n",
       "\n",
       "    .dataframe tbody tr th {\n",
       "        vertical-align: top;\n",
       "    }\n",
       "\n",
       "    .dataframe thead th {\n",
       "        text-align: right;\n",
       "    }\n",
       "</style>\n",
       "<table border=\"1\" class=\"dataframe\">\n",
       "  <thead>\n",
       "    <tr style=\"text-align: right;\">\n",
       "      <th></th>\n",
       "      <th>followers_count</th>\n",
       "      <th>username</th>\n",
       "    </tr>\n",
       "  </thead>\n",
       "  <tbody>\n",
       "    <tr>\n",
       "      <th>113</th>\n",
       "      <td>6498535.0</td>\n",
       "      <td>Skrillex</td>\n",
       "    </tr>\n",
       "    <tr>\n",
       "      <th>110</th>\n",
       "      <td>3649072.0</td>\n",
       "      <td>Seven Lions</td>\n",
       "    </tr>\n",
       "    <tr>\n",
       "      <th>205</th>\n",
       "      <td>3467276.0</td>\n",
       "      <td>Damian Marley</td>\n",
       "    </tr>\n",
       "    <tr>\n",
       "      <th>189</th>\n",
       "      <td>2785568.0</td>\n",
       "      <td>dubmatix</td>\n",
       "    </tr>\n",
       "    <tr>\n",
       "      <th>190</th>\n",
       "      <td>2768063.0</td>\n",
       "      <td>VP RECORDS</td>\n",
       "    </tr>\n",
       "    <tr>\n",
       "      <th>...</th>\n",
       "      <td>...</td>\n",
       "      <td>...</td>\n",
       "    </tr>\n",
       "    <tr>\n",
       "      <th>215</th>\n",
       "      <td>2349.0</td>\n",
       "      <td>Black Roots</td>\n",
       "    </tr>\n",
       "    <tr>\n",
       "      <th>120</th>\n",
       "      <td>2114.0</td>\n",
       "      <td>Tracey Chattaway</td>\n",
       "    </tr>\n",
       "    <tr>\n",
       "      <th>48</th>\n",
       "      <td>2011.0</td>\n",
       "      <td>Copeland Network</td>\n",
       "    </tr>\n",
       "    <tr>\n",
       "      <th>132</th>\n",
       "      <td>1814.0</td>\n",
       "      <td>Francesco Berta</td>\n",
       "    </tr>\n",
       "    <tr>\n",
       "      <th>183</th>\n",
       "      <td>1480.0</td>\n",
       "      <td>BOST &amp; BIM</td>\n",
       "    </tr>\n",
       "  </tbody>\n",
       "</table>\n",
       "<p>100 rows × 2 columns</p>\n",
       "</div>"
      ],
      "text/plain": [
       "     followers_count          username\n",
       "113        6498535.0          Skrillex\n",
       "110        3649072.0       Seven Lions\n",
       "205        3467276.0     Damian Marley\n",
       "189        2785568.0          dubmatix\n",
       "190        2768063.0        VP RECORDS\n",
       "..               ...               ...\n",
       "215           2349.0       Black Roots\n",
       "120           2114.0  Tracey Chattaway\n",
       "48            2011.0  Copeland Network\n",
       "132           1814.0   Francesco Berta\n",
       "183           1480.0        BOST & BIM\n",
       "\n",
       "[100 rows x 2 columns]"
      ]
     },
     "execution_count": 14,
     "metadata": {},
     "output_type": "execute_result"
    }
   ],
   "source": [
    "My_users = My_users.sort_values(by='followers_count', ascending=False)\n",
    "My_users = My_users.head(100)\n",
    "My_users"
   ]
  },
  {
   "cell_type": "code",
   "execution_count": 15,
   "id": "42498471",
   "metadata": {},
   "outputs": [
    {
     "data": {
      "image/png": "[encoded data removed]",
      "text/plain": [
       "<Figure size 1080x720 with 1 Axes>"
      ]
     },
     "metadata": {
      "needs_background": "light"
     },
     "output_type": "display_data"
    }
   ],
   "source": [
    "My_users = My_users[My_users['followers_count'] <= 100000]\n",
    "plt.hist(My_users['followers_count'], bins=100, color = \"skyblue\")\n",
    "plt.show()"
   ]
  },
  {
   "cell_type": "markdown",
   "id": "3a382199",
   "metadata": {},
   "source": [
    "Ta cần lọc đi một số outlier để biểu đồ được rõ ràng hơn các outlier là những giá trị lớn hơn 100000\n",
    "- Nhận xét: \n",
    "    - Histogram thuộc dạng phân bố lệch trái\n",
    "    - Số lượng followers các users dao động trong khoảng 0 đến 20000 chiếm đa số"
   ]
  },
  {
   "cell_type": "markdown",
   "id": "f814f929",
   "metadata": {},
   "source": [
    "### Câu 3\n"
   ]
  },
  {
   "cell_type": "code",
   "execution_count": 16,
   "id": "e71c9573",
   "metadata": {},
   "outputs": [],
   "source": [
    "box_df = tracks_new['likes_count']\n",
    "box_df = tracks_new[tracks_new['likes_count'].notnull()]\n",
    "l = box_df['likes_count'].to_list()\n",
    "# print(l)"
   ]
  },
  {
   "cell_type": "code",
   "execution_count": 17,
   "id": "bb8a6be0",
   "metadata": {},
   "outputs": [
    {
     "data": {
      "text/plain": [
       "{'whiskers': [<matplotlib.lines.Line2D at 0x15d7d73afd0>,\n",
       "  <matplotlib.lines.Line2D at 0x15d7d74e3a0>],\n",
       " 'caps': [<matplotlib.lines.Line2D at 0x15d7d74e730>,\n",
       "  <matplotlib.lines.Line2D at 0x15d7d74eac0>],\n",
       " 'boxes': [<matplotlib.lines.Line2D at 0x15d7d73ac40>],\n",
       " 'medians': [<matplotlib.lines.Line2D at 0x15d7d74ee50>],\n",
       " 'fliers': [<matplotlib.lines.Line2D at 0x15d7d759220>],\n",
       " 'means': []}"
      ]
     },
     "execution_count": 17,
     "metadata": {},
     "output_type": "execute_result"
    },
    {
     "data": {
      "image/png": "[encoded data removed]",
      "text/plain": [
       "<Figure size 1080x720 with 1 Axes>"
      ]
     },
     "metadata": {
      "needs_background": "light"
     },
     "output_type": "display_data"
    }
   ],
   "source": [
    "plt.boxplot(x=l)"
   ]
  },
  {
   "cell_type": "markdown",
   "id": "25b26d6a",
   "metadata": {},
   "source": [
    "### Câu hỏi 4: Sự tương quan giữa số lượt like và số lượt repost\n",
    "Xét dataset **tracks** \"**(3485, 38)**\" chứa thông tin của từng track với số lượng sample là 3485. Ta sẽ xem xét 2 thuộc tính là:\n",
    "- **likes_count**: số lượng người thích của track đó\n",
    "- **reposts_count**: số lượng người đăng lại track đó\n",
    "<!-- -->\n",
    "Ta sẽ xem sự tương quan giữa số lượt thích **likes_count** với số lượng đăng lại **reposts_count** bằng Scatter plot để xem nếu một track có số lượt thích cao thì khả năng sẽ được repost lại cũng sẽ cao"
   ]
  },
  {
   "cell_type": "code",
   "execution_count": 18,
   "id": "72bf4953",
   "metadata": {},
   "outputs": [],
   "source": [
    "cor_data = tracks_new[['likes_count', 'reposts_count']]"
   ]
  },
  {
   "cell_type": "code",
   "execution_count": 19,
   "id": "c3bed6f9",
   "metadata": {},
   "outputs": [
    {
     "data": {
      "image/png": "[encoded data removed]",
      "text/plain": [
       "<Figure size 1080x720 with 1 Axes>"
      ]
     },
     "metadata": {
      "needs_background": "light"
     },
     "output_type": "display_data"
    }
   ],
   "source": [
    "plt.scatter(cor_data['likes_count'], cor_data['reposts_count'], marker='o');\n",
    "# plt.rcParams[\"figure.figsize\"] = (15, 10)\n",
    "\n",
    "plt.xlabel('Likes count')\n",
    "plt.ylabel('reposts count')\n",
    "plt.title(\"Correlated chart about likes and reposts count\")\n",
    "plt.show()"
   ]
  },
  {
   "cell_type": "markdown",
   "id": "add353cf",
   "metadata": {},
   "source": [
    "### Nhận xét:\n",
    "- Với phương pháp này, ta có thể nhận thấy các điểm outlier và ta có thể loại trừ chúng\n",
    "- ta sẽ xem xét kĩ trong khoảng từ 0-1000, bởi vì đây là nơi các điểm tập trung lớn nhất. Ta thấy các điểm có xu hướng theo một đường thẳng xéo đi lên,\n",
    "vì vậy 2 biến **like_count** và **repost_count** có sự tương quan với nhau theo hướng dương (positive correlation), nghĩa là nếu lượt like_count tăng,\n",
    "thì track đó sẽ được yêu thích nhiều hơn dẫn đến lượt repost sẽ cao hơn"
   ]
  },
  {
   "cell_type": "markdown",
   "id": "67b08b4b",
   "metadata": {},
   "source": [
    "# Câu 5: Đánh giá mối tương quan giữa followers và likes_count"
   ]
  },
  {
   "cell_type": "markdown",
   "id": "4ebed62e",
   "metadata": {},
   "source": [
    "- Trước khi trả lời câu hỏi này ta sẽ xác định một số ý như sau\n",
    "     - Các số liệu đã được xác định.\n",
    "     - Ứng dụng câu hỏi là xem sét mức độ ảnh hưởng của **sô lượng theo dõi** so với **tổng số lượt thích**.\n",
    "     - Câu hỏi có thể trả lời với dữ liệu có sẵn.\n",
    "     - Dự đoán tổng số lượt thích sẽ tỉ lệ thuận với tổng số người theo dõi của *user* đó"
   ]
  },
  {
   "cell_type": "code",
   "execution_count": 20,
   "id": "9973e0a7",
   "metadata": {},
   "outputs": [],
   "source": [
    "data_fl_likes = users_new[['likes_count', 'followers_count']]\n",
    "# loại bỏ các ngoại lệ\n",
    "data_fl_likes = data_fl_likes[data_fl_likes['followers_count'] < 50000]"
   ]
  },
  {
   "cell_type": "code",
   "execution_count": 21,
   "id": "0ff68276",
   "metadata": {},
   "outputs": [
    {
     "data": {
      "image/png": "[encoded data removed]",
      "text/plain": [
       "<Figure size 1080x720 with 1 Axes>"
      ]
     },
     "metadata": {
      "needs_background": "light"
     },
     "output_type": "display_data"
    }
   ],
   "source": [
    "plt.scatter(data_fl_likes['followers_count'], data_fl_likes['likes_count'], marker='o');\n",
    "\n",
    "plt.xlabel('followers count')\n",
    "plt.ylabel('likes count')\n",
    "plt.title(\"Correlated chart about followers and likes count\")\n",
    "plt.show()"
   ]
  },
  {
   "cell_type": "markdown",
   "id": "8c305824",
   "metadata": {},
   "source": [
    "# Nhận xét qua biểu đồ:\n",
    "- Lượng theo dõi không ảnh hưởng quá nhiều đến tổng số lượt thích của *user* đó.\n",
    "- Đa phần lượt thích chỉ trong khoảng 0 - 500, và nó đúng với phần lớn dữ liệu.\n",
    "- Số lượng lượt thích gần bằng 0 rất nhiều cho dù số lượng theo dõi của user đó khá lớn (khoảng 10000 - 35000), điều đó có thể giải thích được người dùng chỉ like khi bài hát đó thực sự gây ấn tượng với họ.\n",
    "- Đối với những user có lượng theo dõi ít ( ít hơn 10000), tuy nhiên số lượt thích lại rất cao. Đây là những user mới nhưng đã gây được ấn tượng mạnh đối với người dùng với những bản nhạc đi vào lòng người. Đây là những user cực kì tiềm năng và sẽ thành công trong tương lại nếu tiếp tục cho ra những bản nhạc chất lượng.\n",
    "- Đôi với những user có lượng theo dõi lớn nhưng chưa có được số lượt thích cao, điều này có thể giải thích là những người này đã thành lập tài khoản đã lâu và ra nhiều bài chưa gây ấn tượng mạnh nhưng người dùng vẫn mong chờ họ có thể cho ra các ca khúc tốt hơn nên đã theo dõi, hoặc có thể họ dùng chiều trò mua lượng theo dõi để tăng độ uy tín cho người dùng."
   ]
  },
  {
   "cell_type": "markdown",
   "id": "ed2fa4f6",
   "metadata": {},
   "source": [
    "# Câu 6: Top 10 thể loại nhạc phổ biến năm 2021"
   ]
  },
  {
   "cell_type": "code",
   "execution_count": 23,
   "id": "10421d70",
   "metadata": {},
   "outputs": [],
   "source": [
    "df = pd.read_csv('data\\\\tracks_new.csv')\n",
    "# láy 2 thuộc tính là 'genre và created_at' và bỏ qua dòng có giá trị null.\n",
    "dt_df = df[['genre', 'created_at']].dropna()\n",
    "\n",
    "# đổi kiểu dữ liêu thuộc tính 'created_at' thành kiểu datetime\n",
    "dt_df['created_at'] = pd.to_datetime(dt_df['created_at'])\n",
    "\n",
    "# láy top 10 thể loại phổ biến nhất năm 2021.\n",
    "dt_df['year'] = dt_df['created_at'].apply(lambda x: x.year)\n",
    "top_10_popular = dt_df.query('year == 2021')['genre'].value_counts()[:10]"
   ]
  },
  {
   "cell_type": "code",
   "execution_count": 25,
   "id": "63ee93e4",
   "metadata": {},
   "outputs": [
    {
     "data": {
      "image/png": "[encoded data removed]",
      "text/plain": [
       "<Figure size 1008x648 with 1 Axes>"
      ]
     },
     "metadata": {
      "needs_background": "light"
     },
     "output_type": "display_data"
    }
   ],
   "source": [
    "# visualization\n",
    "fig, ax = plt.subplots(figsize=(14, 9))\n",
    "\n",
    "ax.barh(top_10_popular[:10].index, top_10_popular[:10])\n",
    "\n",
    "\n",
    "font = {'family': 'serif',\n",
    "        'color':  'blue',\n",
    "        }\n",
    "ax.set_title('Top 10 thể loại phổ biến năm 2021',fontdict=font, fontsize=32)\n",
    "ax.set_xlabel('Số lượng bài hát', fontdict=font, fontsize=20)\n",
    "ax.set_ylabel('Thể loại', fontdict=font, fontsize=20)\n",
    "ax.tick_params(labelsize=14)\n",
    "# fig.autofmt_xdate()\n",
    "\n",
    "plt.show()"
   ]
  },
  {
   "cell_type": "markdown",
   "id": "143920c5",
   "metadata": {},
   "source": [
    "- số liệu trước khi bắt đầu cột thuộc tính \"genre\": tên thể loại và \"created_at\": ngày tạo.\n",
    "- ngữ cảnh biết được xu hướng âm nhạc trong năm 2021, cho thể cho ra những sản phẩm nằm trong top 10 thể loại phổ biến, có thể giúp cho bài hát được nhiều người biết tới.\n",
    "- mức độ đánh giá cho câu trả lời không cao (dữ liệu có thêm thuộc tính lược view thì kết quả sẽ tốt hơn).\n",
    "\n",
    "- nhìn vào biểu đồ ta có thể tháy thể loại \"Religion & Spirituality\" là thể loại có nhiều bài hát nhất năm 2021 ta có thể đánh giá nó là thể loại đang được hướng tới từ những người nghệ sĩ."
   ]
  }
 ],
 "metadata": {
  "kernelspec": {
   "display_name": "Python 3 (ipykernel)",
   "language": "python",
   "name": "python3"
  },
  "language_info": {
   "codemirror_mode": {
    "name": "ipython",
    "version": 3
   },
   "file_extension": ".py",
   "mimetype": "text/x-python",
   "name": "python",
   "nbconvert_exporter": "python",
   "pygments_lexer": "ipython3",
   "version": "3.9.7"
  }
 },
 "nbformat": 4,
 "nbformat_minor": 5
}
