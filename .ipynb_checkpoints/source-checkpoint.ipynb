{
 "cells": [
  {
   "cell_type": "markdown",
   "id": "590a85aa",
   "metadata": {},
   "source": [
    "# PROJECT 02: PHÂN TÍCH DỮ LIỆU\n",
    "- Lê Minh Hữu - 19120525\n",
    "- Ninh Duy Huy - 19120533\n",
    "- Cao Thanh Khiết - 19120544\n",
    "- Nguyễn Tuấn Khoa - 19120547\n",
    "- Trần Tuấn Kiệt - 19120557\n"
   ]
  },
  {
   "cell_type": "markdown",
   "id": "e472dc72",
   "metadata": {},
   "source": [
    "## TIỀN XỬ LÝ DỮ LIỆU"
   ]
  },
  {
   "cell_type": "code",
   "execution_count": 1,
   "id": "d04a7a72",
   "metadata": {},
   "outputs": [],
   "source": [
    "import matplotlib.pyplot as plt\n",
    "import pandas as pd\n",
    "import numpy as np"
   ]
  },
  {
   "cell_type": "code",
   "execution_count": 2,
   "id": "198fc18e",
   "metadata": {},
   "outputs": [],
   "source": [
    "playlists_df = pd.read_csv(\"data/playlists.csv\", sep=\",\")\n",
    "tracks_df = pd.read_csv(\"data/tracks.csv\", sep=\",\")\n",
    "users_df = pd.read_csv(\"data/users.csv\", sep=\",\")\n",
    "\n",
    "# configure matplotlib\n",
    "plt.rcParams[\"figure.figsize\"] = (15, 10)"
   ]
  },
  {
   "cell_type": "code",
   "execution_count": 3,
   "id": "da4af1e1",
   "metadata": {},
   "outputs": [
    {
     "name": "stdout",
     "output_type": "stream",
     "text": [
      "(608, 3)\n",
      "(6979, 45)\n",
      "(422, 33)\n"
     ]
    }
   ],
   "source": [
    "print(playlists_df.shape)\n",
    "print(tracks_df.shape)\n",
    "print(users_df.shape)"
   ]
  },
  {
   "cell_type": "code",
   "execution_count": 4,
   "id": "3849b75f",
   "metadata": {},
   "outputs": [],
   "source": [
    "# delete some row with missing values more than the given ratio\n",
    "def preprocess_data(old_df, ratio):\n",
    "    attributes = list(old_df.columns)\n",
    "    row = len(old_df.index)\n",
    "    col = len(attributes)\n",
    "\n",
    "    a = []\n",
    "    arr=[]\n",
    "    for i in range(row):\n",
    "        for j in range(col):\n",
    "            a.append(old_df[attributes[j]][i])\n",
    "        arr.append(a)\n",
    "        a = []\n",
    "\n",
    "    result_arr = []\n",
    "    temp_a = []\n",
    "    for i in range(row):\n",
    "        for j in range(col):\n",
    "            temp_a.append(arr[i][j])\n",
    "        result_arr.append(temp_a)\n",
    "        temp_a = []\n",
    "# xóa dòng\n",
    "    for value in arr:\n",
    "        count_missing = 0\n",
    "        for i in value:\n",
    "            if i == 'None' or i!=i :\n",
    "                count_missing +=1\n",
    "        if (count_missing / col) > ratio:\n",
    "            result_arr.remove(value)\n",
    "# xóa cột\n",
    "    new_row = len(result_arr)\n",
    "    temp_arr = []\n",
    "    temp_a = []\n",
    "    for i in range(new_row):\n",
    "        for j in range(col):\n",
    "            temp_a.append(result_arr[i][j])\n",
    "        temp_arr.append(temp_a)\n",
    "        temp_a = []\n",
    "\n",
    "    count_del_col = 0 #biến đếm các cột đã bị xóa\n",
    "    for i in range(col):\n",
    "        count_missing = 0\n",
    "        for j in range(new_row):\n",
    "            if temp_arr[j][i] != temp_arr[j][i] or temp_arr[j][i] == 'None':\n",
    "                count_missing += 1\n",
    "        if (count_missing /new_row) > ratio:\n",
    "            del attributes[i-count_del_col]\n",
    "            for r in result_arr:\n",
    "                del r[i-count_del_col]\n",
    "            count_del_col += 1\n",
    "\n",
    "    # tạo một DataFrame mới để lưu kết quả\n",
    "    new_data = {}\n",
    "    new_row = len(result_arr)\n",
    "    for i in range(len(attributes)):\n",
    "        new_data[attributes[i]] = [result_arr[j][i] for j in range(new_row)] \n",
    "\n",
    "    new_df = pd.DataFrame(new_data, columns = attributes)\n",
    "    return new_df\n"
   ]
  },
  {
   "cell_type": "code",
   "execution_count": 5,
   "id": "ba42e7e1",
   "metadata": {},
   "outputs": [],
   "source": [
    "playlists_new = preprocess_data(playlists_df,0.5)\n",
    "tracks_new = preprocess_data(tracks_df,0.5)\n",
    "users_new = preprocess_data(users_df,0.5)"
   ]
  },
  {
   "cell_type": "code",
   "execution_count": 6,
   "id": "b008976c",
   "metadata": {},
   "outputs": [],
   "source": [
    "# ghi dataframe ra file mới\n",
    "playlists_new.to_csv('playlists_new.csv', index = False, header = True)\n",
    "tracks_new.to_csv('tracks_new.csv', index = False, header = True)\n",
    "users_new.to_csv('users_new.csv', index = False, header = True)"
   ]
  },
  {
   "cell_type": "code",
   "execution_count": 7,
   "id": "70a83cd8",
   "metadata": {},
   "outputs": [
    {
     "name": "stdout",
     "output_type": "stream",
     "text": [
      "(608, 3)\n",
      "(3485, 38)\n",
      "(216, 32)\n"
     ]
    }
   ],
   "source": [
    "print(playlists_new.shape)\n",
    "print(tracks_new.shape)\n",
    "print(users_new.shape)"
   ]
  },
  {
   "cell_type": "markdown",
   "id": "3a257ef4",
   "metadata": {},
   "source": [
    "### Câu 1: top 100 các tracks được download nhiều nhất vẽ biểu đồ histogram để thể hiện các tracks có số lượng download ở khoảng bao nhiêu chiếm đa số\n",
    "   - Trước khi trả lời câu hỏi này ta sẽ xác định một số ý như sau\n",
    "        - Các số liệu đã được xác định\n",
    "        - Ứng dụng câu hỏi là tìm ra các tracks được ưa chuộng nhất\n",
    "        - Câu hỏi có thể trả lời với dữ liệu có sẵn"
   ]
  },
  {
   "cell_type": "code",
   "execution_count": 8,
   "id": "4a5c8fc9",
   "metadata": {},
   "outputs": [],
   "source": [
    "My_tracks = tracks_new"
   ]
  },
  {
   "cell_type": "markdown",
   "id": "ddea65d6",
   "metadata": {},
   "source": [
    "Ta cần tiền xử lý một vài dữ liệu bất hợp lý\n",
    "- Bỏ đi những dòng có dữ liệu bất hợp lý đó là những dòng có downloadable là False nhưng dòng download_count vẫn có giá trị khác 0.0\n",
    "- Loại bỏ đi những dòng có giá trị là 0.0 hay NaN trong cột download_count\n",
    "- Loại bỏ đi những dòng trùng nhau và giữ lại dòng xuất hiện đầu tiên"
   ]
  },
  {
   "cell_type": "code",
   "execution_count": 9,
   "id": "979e64f7",
   "metadata": {},
   "outputs": [],
   "source": [
    "My_tracks = My_tracks[My_tracks['downloadable'] == True]\n",
    "My_tracks = My_tracks[My_tracks['download_count'].isna() == False]\n",
    "My_tracks = My_tracks[My_tracks['download_count'] != 0.0]"
   ]
  },
  {
   "cell_type": "markdown",
   "id": "4f6b46fe",
   "metadata": {},
   "source": [
    "Tiếp theo ta sẽ sắp xếp lại theo thứ tự giảm dần rồi chọn 100 dòng đầu tiên"
   ]
  },
  {
   "cell_type": "code",
   "execution_count": 10,
   "id": "55ddbf36",
   "metadata": {},
   "outputs": [
    {
     "data": {
      "text/html": [
       "<div>\n",
       "<style scoped>\n",
       "    .dataframe tbody tr th:only-of-type {\n",
       "        vertical-align: middle;\n",
       "    }\n",
       "\n",
       "    .dataframe tbody tr th {\n",
       "        vertical-align: top;\n",
       "    }\n",
       "\n",
       "    .dataframe thead th {\n",
       "        text-align: right;\n",
       "    }\n",
       "</style>\n",
       "<table border=\"1\" class=\"dataframe\">\n",
       "  <thead>\n",
       "    <tr style=\"text-align: right;\">\n",
       "      <th></th>\n",
       "      <th>download_count</th>\n",
       "      <th>title</th>\n",
       "    </tr>\n",
       "  </thead>\n",
       "  <tbody>\n",
       "    <tr>\n",
       "      <th>715</th>\n",
       "      <td>94327.0</td>\n",
       "      <td>Better Days</td>\n",
       "    </tr>\n",
       "    <tr>\n",
       "      <th>2585</th>\n",
       "      <td>63685.0</td>\n",
       "      <td>ODESZA - My Friends Never Die</td>\n",
       "    </tr>\n",
       "    <tr>\n",
       "      <th>860</th>\n",
       "      <td>45030.0</td>\n",
       "      <td>The Process</td>\n",
       "    </tr>\n",
       "    <tr>\n",
       "      <th>844</th>\n",
       "      <td>28523.0</td>\n",
       "      <td>Good Morning</td>\n",
       "    </tr>\n",
       "    <tr>\n",
       "      <th>771</th>\n",
       "      <td>19074.0</td>\n",
       "      <td>Summertime Love</td>\n",
       "    </tr>\n",
       "    <tr>\n",
       "      <th>...</th>\n",
       "      <td>...</td>\n",
       "      <td>...</td>\n",
       "    </tr>\n",
       "    <tr>\n",
       "      <th>815</th>\n",
       "      <td>212.0</td>\n",
       "      <td>Pieza 7: Jueces</td>\n",
       "    </tr>\n",
       "    <tr>\n",
       "      <th>720</th>\n",
       "      <td>198.0</td>\n",
       "      <td>The Way - Instrumental Music Oud / موسيقى عود</td>\n",
       "    </tr>\n",
       "    <tr>\n",
       "      <th>855</th>\n",
       "      <td>189.0</td>\n",
       "      <td>Pieza 40: Mateo</td>\n",
       "    </tr>\n",
       "    <tr>\n",
       "      <th>813</th>\n",
       "      <td>176.0</td>\n",
       "      <td>Pieza 23: Isaías</td>\n",
       "    </tr>\n",
       "    <tr>\n",
       "      <th>810</th>\n",
       "      <td>173.0</td>\n",
       "      <td>Pieza 17: Nehemías</td>\n",
       "    </tr>\n",
       "  </tbody>\n",
       "</table>\n",
       "<p>100 rows × 2 columns</p>\n",
       "</div>"
      ],
      "text/plain": [
       "      download_count                                          title\n",
       "715          94327.0                                    Better Days\n",
       "2585         63685.0                  ODESZA - My Friends Never Die\n",
       "860          45030.0                                    The Process\n",
       "844          28523.0                                   Good Morning\n",
       "771          19074.0                                Summertime Love\n",
       "...              ...                                            ...\n",
       "815            212.0                                Pieza 7: Jueces\n",
       "720            198.0  The Way - Instrumental Music Oud / موسيقى عود\n",
       "855            189.0                                Pieza 40: Mateo\n",
       "813            176.0                               Pieza 23: Isaías\n",
       "810            173.0                            Pieza 17: Nehemías\n",
       "\n",
       "[100 rows x 2 columns]"
      ]
     },
     "execution_count": 10,
     "metadata": {},
     "output_type": "execute_result"
    }
   ],
   "source": [
    "My_df = My_tracks[['download_count', 'title']]\n",
    "My_df = My_df.drop_duplicates(subset=['download_count', 'title'], keep='first')\n",
    "My_df = My_df.sort_values(by='download_count', ascending=False)\n",
    "My_df = My_df.head(100)\n",
    "My_df"
   ]
  },
  {
   "cell_type": "code",
   "execution_count": 11,
   "id": "2cc5c07a",
   "metadata": {},
   "outputs": [
    {
     "data": {
      "image/png": "[encoded data removed]",
      "text/plain": [
       "<Figure size 1080x720 with 1 Axes>"
      ]
     },
     "metadata": {
      "needs_background": "light"
     },
     "output_type": "display_data"
    }
   ],
   "source": [
    "My_df = My_df[My_df['download_count'] <= 6000]\n",
    "plt.hist(My_df['download_count'], bins=100)\n",
    "plt.show()"
   ]
  },
  {
   "cell_type": "markdown",
   "id": "1c498a7b",
   "metadata": {},
   "source": [
    "Ta cần lọc đi một số outlier để biểu đồ được rõ ràng hơn các outlier là những giá trị lớn hơn 6000\n",
    "- Nhận xét: \n",
    "    - Histogram thuộc dạng phân bố lệch trái\n",
    "    - Số lượng download các tracks dao động trong khoảng 0 đến 1000 chiếm đa số"
   ]
  },
  {
   "cell_type": "markdown",
   "id": "b4b5221c",
   "metadata": {},
   "source": [
    "### Câu 2:  top 100 users có followers cao nhất và vẽ biểu đồ histogram để thể hiện các users có số lượng followers ở khoảng bao nhiêu chiếm đa số\n",
    "   - Trước khi trả lời câu hỏi này ta sẽ xác định một số ý như sau\n",
    "        - Các số liệu đã được xác định\n",
    "        - Ứng dụng câu hỏi là tìm ra users nổi tiếng và có nhiều sản phẩm âm nhạc được ưa thích\n",
    "        - Câu hỏi có thể trả lời với dữ liệu có sẵn"
   ]
  },
  {
   "cell_type": "code",
   "execution_count": 12,
   "id": "5439ff03",
   "metadata": {},
   "outputs": [],
   "source": [
    "My_users = users_new"
   ]
  },
  {
   "cell_type": "markdown",
   "id": "635a3a94",
   "metadata": {},
   "source": [
    "Ta cần tiền xử lý một số dữ liệu bất hợp lý\n",
    "- Loại bỏ các dòng trùng nhau và giữ lại dòng xuất hiện đầu tiên"
   ]
  },
  {
   "cell_type": "code",
   "execution_count": 13,
   "id": "d3604d58",
   "metadata": {},
   "outputs": [],
   "source": [
    "My_users = My_users[['followers_count', 'username']]\n",
    "My_users = My_users.drop_duplicates(subset=['followers_count', 'username'], keep='first')"
   ]
  },
  {
   "cell_type": "markdown",
   "id": "07a4f99b",
   "metadata": {},
   "source": [
    "Tiếp theo ta sẽ sắp xếp lại theo thứ tự giảm dần rồi chọn 100 dòng đầu tiên"
   ]
  },
  {
   "cell_type": "code",
   "execution_count": 14,
   "id": "9f2f8498",
   "metadata": {},
   "outputs": [
    {
     "data": {
      "text/html": [
       "<div>\n",
       "<style scoped>\n",
       "    .dataframe tbody tr th:only-of-type {\n",
       "        vertical-align: middle;\n",
       "    }\n",
       "\n",
       "    .dataframe tbody tr th {\n",
       "        vertical-align: top;\n",
       "    }\n",
       "\n",
       "    .dataframe thead th {\n",
       "        text-align: right;\n",
       "    }\n",
       "</style>\n",
       "<table border=\"1\" class=\"dataframe\">\n",
       "  <thead>\n",
       "    <tr style=\"text-align: right;\">\n",
       "      <th></th>\n",
       "      <th>followers_count</th>\n",
       "      <th>username</th>\n",
       "    </tr>\n",
       "  </thead>\n",
       "  <tbody>\n",
       "    <tr>\n",
       "      <th>113</th>\n",
       "      <td>6498535.0</td>\n",
       "      <td>Skrillex</td>\n",
       "    </tr>\n",
       "    <tr>\n",
       "      <th>110</th>\n",
       "      <td>3649072.0</td>\n",
       "      <td>Seven Lions</td>\n",
       "    </tr>\n",
       "    <tr>\n",
       "      <th>205</th>\n",
       "      <td>3467276.0</td>\n",
       "      <td>Damian Marley</td>\n",
       "    </tr>\n",
       "    <tr>\n",
       "      <th>189</th>\n",
       "      <td>2785568.0</td>\n",
       "      <td>dubmatix</td>\n",
       "    </tr>\n",
       "    <tr>\n",
       "      <th>190</th>\n",
       "      <td>2768063.0</td>\n",
       "      <td>VP RECORDS</td>\n",
       "    </tr>\n",
       "    <tr>\n",
       "      <th>...</th>\n",
       "      <td>...</td>\n",
       "      <td>...</td>\n",
       "    </tr>\n",
       "    <tr>\n",
       "      <th>215</th>\n",
       "      <td>2349.0</td>\n",
       "      <td>Black Roots</td>\n",
       "    </tr>\n",
       "    <tr>\n",
       "      <th>120</th>\n",
       "      <td>2114.0</td>\n",
       "      <td>Tracey Chattaway</td>\n",
       "    </tr>\n",
       "    <tr>\n",
       "      <th>48</th>\n",
       "      <td>2011.0</td>\n",
       "      <td>Copeland Network</td>\n",
       "    </tr>\n",
       "    <tr>\n",
       "      <th>132</th>\n",
       "      <td>1814.0</td>\n",
       "      <td>Francesco Berta</td>\n",
       "    </tr>\n",
       "    <tr>\n",
       "      <th>183</th>\n",
       "      <td>1480.0</td>\n",
       "      <td>BOST &amp; BIM</td>\n",
       "    </tr>\n",
       "  </tbody>\n",
       "</table>\n",
       "<p>100 rows × 2 columns</p>\n",
       "</div>"
      ],
      "text/plain": [
       "     followers_count          username\n",
       "113        6498535.0          Skrillex\n",
       "110        3649072.0       Seven Lions\n",
       "205        3467276.0     Damian Marley\n",
       "189        2785568.0          dubmatix\n",
       "190        2768063.0        VP RECORDS\n",
       "..               ...               ...\n",
       "215           2349.0       Black Roots\n",
       "120           2114.0  Tracey Chattaway\n",
       "48            2011.0  Copeland Network\n",
       "132           1814.0   Francesco Berta\n",
       "183           1480.0        BOST & BIM\n",
       "\n",
       "[100 rows x 2 columns]"
      ]
     },
     "execution_count": 14,
     "metadata": {},
     "output_type": "execute_result"
    }
   ],
   "source": [
    "My_users = My_users.sort_values(by='followers_count', ascending=False)\n",
    "My_users = My_users.head(100)\n",
    "My_users"
   ]
  },
  {
   "cell_type": "code",
   "execution_count": 15,
   "id": "42498471",
   "metadata": {},
   "outputs": [
    {
     "data": {
      "image/png": "[encoded data removed]",
      "text/plain": [
       "<Figure size 1080x720 with 1 Axes>"
      ]
     },
     "metadata": {
      "needs_background": "light"
     },
     "output_type": "display_data"
    }
   ],
   "source": [
    "My_users = My_users[My_users['followers_count'] <= 100000]\n",
    "plt.hist(My_users['followers_count'], bins=100, color = \"skyblue\")\n",
    "plt.show()"
   ]
  },
  {
   "cell_type": "markdown",
   "id": "3a382199",
   "metadata": {},
   "source": [
    "Ta cần lọc đi một số outlier để biểu đồ được rõ ràng hơn các outlier là những giá trị lớn hơn 100000\n",
    "- Nhận xét: \n",
    "    - Histogram thuộc dạng phân bố lệch trái\n",
    "    - Số lượng followers các users dao động trong khoảng 0 đến 20000 chiếm đa số"
   ]
  },
  {
   "cell_type": "markdown",
   "id": "f814f929",
   "metadata": {},
   "source": [
    "### Câu 3\n"
   ]
  },
  {
   "cell_type": "code",
   "execution_count": 16,
   "id": "e71c9573",
   "metadata": {},
   "outputs": [
    {
     "name": "stdout",
     "output_type": "stream",
     "text": [
      "[344.0, 200.0, 2692.0, 95.0, 87.0, 633.0, 84.0, 397.0, 366.0, 2692.0, 144.0, 344.0, 216.0, 200.0, 512.0, 633.0, 95.0, 512.0, 177.0, 1164.0, 27.0, 239.0, 63.0, 434.0, 1110.0, 26.0, 10.0, 17.0, 38.0, 756.0, 3.0, 500.0, 6.0, 9.0, 8.0, 571.0, 11351.0, 7.0, 186.0, 18.0, 5.0, 5.0, 34.0, 5.0, 989.0, 29.0, 13.0, 88.0, 14.0, 278.0, 55.0, 11639.0, 35.0, 1449.0, 21.0, 986.0, 3328.0, 22.0, 59.0, 5398.0, 8292.0, 4346.0, 615.0, 524.0, 3292.0, 3566.0, 18.0, 159.0, 70.0, 167.0, 9.0, 23.0, 69072.0, 19643.0, 195.0, 868.0, 457.0, 1210.0, 1076.0, 11813.0, 161.0, 1270.0, 10.0, 530.0, 156.0, 7046.0, 4071.0, 1741.0, 6066.0, 39523.0, 20070.0, 2181.0, 1086.0, 145.0, 455.0, 355.0, 2602.0, 151.0, 1086.0, 5479.0, 83.0, 2810.0, 712.0, 163.0, 1086.0, 1091.0, 5479.0, 542.0, 794.0, 165.0, 416.0, 1154.0, 2346.0, 859.0, 261.0, 297.0, 666.0, 403.0, 363676.0, 783.0, 1441.0, 240.0, 1634.0, 5028.0, 1040.0, 5792.0, 301.0, 427.0, 1855.0, 3389.0, 284.0, 358.0, 327.0, 2401.0, 1772.0, 4234.0, 874.0, 325.0, 2179.0, 2021.0, 1514.0, 1658.0, 190.0, 22.0, 916.0, 1776.0, 583.0, 397.0, 190.0, 394.0, 714.0, 1390.0, 5449.0, 832.0, 2.0, 1829.0, 1070.0, 2406.0, 9.0, 507.0, 1395.0, 1267.0, 5.0, 3411.0, 794.0, 1638.0, 4819.0, 945.0, 5556.0, 479.0, 4863.0, 158.0, 10319.0, 1469.0, 5575.0, 680.0, 333.0, 106.0, 1406.0, 1785.0, 337.0, 2428.0, 1583.0, 173.0, 1798.0, 8698.0, 1168.0, 1621.0, 40.0, 41996.0, 588.0, 2961.0, 8051.0, 114.0, 263.0, 361.0, 89.0, 363.0, 155.0, 6318.0, 2578.0, 274.0, 21749.0, 7.0, 1405.0, 20071.0, 598.0, 3158.0, 1270.0, 105662.0, 8417.0, 13419.0, 4501.0, 1241.0, 7027.0, 1045.0, 477.0, 2445.0, 1249.0, 560.0, 20.0, 1612.0, 13113.0, 494.0, 3331.0, 8417.0, 8.0, 18.0, 30684.0, 39.0, 45.0, 7.0, 12.0, 50572.0, 25.0, 8.0, 46665.0, 26.0, 213.0, 48.0, 3.0, 15.0, 13.0, 71.0, 6197.0, 1090.0, 25.0, 18.0, 63655.0, 40.0, 33.0, 14.0, 11.0, 11.0, 102.0, 16.0, 24.0, 219.0, 2.0, 22.0, 969.0, 11.0, 24.0, 9.0, 8.0, 6069.0, 1.0, 292.0, 2071.0, 23.0, 30607.0, 8653.0, 5840.0, 19142.0, 1817.0, 709.0, 2.0, 1707.0, 3.0, 2.0, 2921.0, 3158.0, 776.0, 1.0, 0.0, 1.0, 3.0, 2.0, 11193.0, 3.0, 3216.0, 3.0, 0.0, 11.0, 1817.0, 5420.0, 876.0, 28652.0, 2.0, 448.0, 84788.0, 4433.0, 975.0, 8736.0, 426.0, 161673.0, 119.0, 43196.0, 6541.0, 40109.0, 4.0, 1571.0, 4.0, 52915.0, 27623.0, 720.0, 1058.0, 2672.0, 34.0, 12614.0, 593250.0, 229.0, 29.0, 1960.0, 13.0, 53340.0, 129402.0, 950.0, 2205.0, 6971.0, 189.0, 6.0, 1.0, 12.0, 531.0, 12781.0, 24239.0, 0.0, 62.0, 62.0, 46.0, 44932.0, 44.0, 15.0, 4.0, 553.0, 15.0, 68.0, 5.0, 243.0, 30.0, 3221.0, 14.0, 5840.0, 4.0, 308.0, 34.0, 240.0, 6.0, 15.0, 13978.0, 5.0, 3.0, 23.0, 41.0, 16.0, 5.0, 11.0, 5.0, 17.0, 103904.0, 16.0, 2692.0, 46.0, 366.0, 184.0, 80.0, 6.0, 87.0, 397.0, 13.0, 421.0, 4.0, 13.0, 660.0, 216.0, 61.0, 10.0, 532.0, 14.0, 4.0, 31.0, 5.0, 20.0, 4.0, 571.0, 650.0, 725109.0, 633.0, 301.0, 219.0, 344.0, 512.0, 18.0, 373.0, 95.0, 15.0, 373.0, 6.0, 138.0, 19.0, 2838.0, 564.0, 0.0, 1040.0, 1104.0, 3992.0, 26786.0, 826.0, 832.0, 1829.0, 242.0, 394.0, 1848.0, 1776.0, 392.0, 265.0, 244.0, 1390.0, 1441.0, 2062.0, 916.0, 1429.0, 228.0, 15529.0, 991.0, 23895.0, 354.0, 5792.0, 358.0, 2967.0, 147.0, 1305.0, 874.0, 85650.0, 1352.0, 4418.0, 22278.0, 45306.0, 14188.0, 9538.0, 165.0, 1062.0, 1301.0, 3317.0, 55022.0, 397.0, 2750.0, 367.0, 3448.0, 55690.0, 133.0, 4879.0, 1658.0, 9337.0, 474.0, 2401.0, 0.0, 2513.0, 27.0, 11.0, 35943.0, 27.0, 31546.0, 10.0, 14584.0, 71.0, 325.0, 416.0, 569.0, 161.0, 91008.0, 41.0, 205.0, 64.0, 12.0, 17.0, 84.0, 19.0, 17.0, 149.0, 75.0, 30.0, 240.0, 4125.0, 5.0, 202.0, 51.0, 1371.0, 12.0, 88.0, 48.0, 5.0, 87003.0, 48.0, 19.0, 9.0, 380.0, 12465.0, 427.0, 2.0, 45.0, 37.0, 13326.0, 3.0, 358.0, 55.0, 43.0, 2.0, 16765.0, 2.0, 61.0, 1.0, 1.0, 10543.0, 0.0, 29.0, 1.0, 62.0, 1.0, 6.0, 98.0, 10.0, 2.0, 0.0, 383.0, 748.0, 66.0, 63.0, 157.0, 12.0, 8.0, 374.0, 143.0, 2.0, 21.0, 5.0, 253.0, 0.0, 8.0, 5.0, 5.0, 5.0, 3.0, 5.0, 96980.0, 8.0, 1.0, 39.0, 4.0, 1.0, 104.0, 23.0, 0.0, 237.0, 13.0, 8.0, 0.0, 45.0, 2.0, 0.0, 3.0, 57.0, 242.0, 21.0, 4.0, 3.0, 73.0, 6.0, 10.0, 149.0, 522.0, 3954.0, 18.0, 885.0, 1.0, 7.0, 9.0, 11.0, 8.0, 17.0, 329.0, 11.0, 173.0, 4.0, 10.0, 2.0, 1.0, 2.0, 1.0, 16.0, 1.0, 948.0, 12139.0, 6.0, 1680.0, 12.0, 306.0, 12.0, 11.0, 114.0, 9.0, 533.0, 0.0, 1.0, 1.0, 0.0, 0.0, 0.0, 3.0, 1.0, 51.0, 88.0, 706.0, 68.0, 92.0, 31.0, 80.0, 1426.0, 0.0, 3.0, 1.0, 2501.0, 18.0, 0.0, 9328.0, 79.0, 87.0, 552.0, 1401.0, 1.0, 0.0, 0.0, 5.0, 8.0, 3.0, 43.0, 43.0, 1.0, 80.0, 123.0, 526.0, 0.0, 27.0, 298.0, 68.0, 263.0, 506.0, 1279.0, 77.0, 10414.0, 186.0, 34.0, 62.0, 376.0, 183.0, 237.0, 372.0, 128.0, 102.0, 247.0, 14.0, 409.0, 162.0, 54.0, 232.0, 220.0, 1407.0, 498.0, 71.0, 240.0, 63.0, 5191.0, 3791.0, 637.0, 11.0, 216.0, 7068.0, 277.0, 282.0, 277.0, 30743.0, 4747.0, 27133.0, 573.0, 272.0, 79.0, 750.0, 0.0, 81.0, 590.0, 109.0, 25270.0, 42.0, 44.0, 101.0, 152.0, 664.0, 30743.0, 2463.0, 49.0, 45457.0, 433.0, 1355.0, 243.0, 66171.0, 1880.0, 1594.0, 552.0, 21.0, 218.0, 827.0, 1891.0, 27133.0, 5.0, 97.0, 3.0, 483.0, 8.0, 42.0, 45457.0, 8.0, 2094.0, 104.0, 123.0, 747.0, 29745.0, 29745.0, 5.0, 756.0, 117.0, 933.0, 707.0, 6.0, 289.0, 4.0, 16.0, 125.0, 96.0, 615.0, 282.0, 5.0, 20.0, 8.0, 11.0, 3.0, 91.0, 6.0, 9.0, 39.0, 18.0, 2.0, 83.0, 11.0, 4.0, 223.0, 21.0, 57.0, 3.0, 1.0, 885.0, 11492.0, 5.0, 8.0, 6.0, 11.0, 0.0, 125.0, 10.0, 282.0, 39.0, 151.0, 3.0, 1.0, 114.0, 576.0, 8.0, 31445.0, 3105.0, 332.0, 3.0, 114.0, 663.0, 2.0, 10.0, 4.0, 0.0, 163.0, 921.0, 5420.0, 2.0, 47.0, 53.0, 405.0, 78.0, 2501.0, 2134.0, 46.0, 1.0, 3.0, 46.0, 1.0, 47.0, 48.0, 439.0, 57.0, 781.0, 566.0, 35.0, 180.0, 1.0, 109.0, 0.0, 127.0, 516.0, 3.0, 5677.0, 51.0, 193.0, 43.0, 298.0, 30.0, 47.0, 147.0, 4.0, 67.0, 8.0, 1678.0, 43.0, 1.0, 6.0, 54.0, 361.0, 62.0, 20340.0, 2965.0, 42.0, 44.0, 41.0, 22.0, 4.0, 900.0, 19462.0, 85.0, 2685.0, 47.0, 66171.0, 9.0, 47.0, 24.0, 36791.0, 14.0, 13.0, 2255.0, 103.0, 46.0, 50.0, 3.0, 6.0, 34.0, 19.0, 14.0, 34.0, 20.0, 20.0, 328.0, 20.0, 14.0, 28.0, 12.0, 27.0, 4.0, 5.0, 36.0, 8493.0, 18.0, 6.0, 11492.0, 15.0, 30.0, 29.0, 35.0, 23.0, 6.0, 48930.0, 7.0, 5.0, 6.0, 8.0, 4.0, 4.0, 3.0, 5.0, 5.0, 3.0, 16.0, 4.0, 3150.0, 2.0, 5.0, 13.0, 1666.0, 4.0, 117.0, 5.0, 26.0, 11.0, 11.0, 5.0, 72.0, 4.0, 4.0, 7.0, 3.0, 7.0, 4.0, 17.0, 147999.0, 9.0, 7.0, 20340.0, 4.0, 9.0, 4.0, 20.0, 5.0, 6.0, 3.0, 6.0, 5.0, 6.0, 12.0, 22.0, 8.0, 69.0, 6.0, 10.0, 8.0, 2.0, 4.0, 7.0, 20.0, 95.0, 8.0, 5.0, 7.0, 8.0, 6.0, 24.0, 18.0, 8.0, 20.0, 15.0, 10.0, 29.0, 16.0, 8.0, 5.0, 12.0, 5.0, 51.0, 90.0, 19.0, 22.0, 137.0, 237.0, 635977.0, 1682.0, 954.0, 3.0, 61.0, 11.0, 42.0, 4761.0, 24.0, 214.0, 21.0, 18.0, 30884.0, 9.0, 18.0, 8.0, 20304.0, 5.0, 434540.0, 4.0, 3.0, 80.0, 108.0, 80.0, 69383.0, 30884.0, 42.0, 795579.0, 24812.0, 802655.0, 45561.0, 121.0, 3262.0, 40560.0, 17.0, 14.0, 8570.0, 20.0, 434540.0, 5.0, 508425.0, 13475.0, 254817.0, 43.0, 9954.0, 166279.0, 5658.0, 2102.0, 11796.0, 113.0, 9157.0, 19047.0, 407.0, 8.0, 3.0, 9.0, 1.0, 2577.0, 23.0, 3896.0, 2.0, 12.0, 1.0, 508425.0, 11.0, 17.0, 6.0, 7.0, 3.0, 1.0, 2.0, 2.0, 4.0, 9.0, 6.0, 3.0, 8.0, 4.0, 5.0, 5.0, 7.0, 1.0, 3.0, 8.0, 8.0, 10.0, 4.0, 7.0, 15.0, 2.0, 2.0, 17.0, 8.0, 28.0, 13.0, 3.0, 5.0, 11.0, 3.0, 5.0, 5.0, 4.0, 4.0, 5.0, 9.0, 3.0, 1157.0, 4.0, 10.0, 27855.0, 1.0, 1.0, 9.0, 14.0, 25.0, 4.0, 7.0, 4.0, 2.0, 7068.0, 3973.0, 6914.0, 0.0, 3.0, 4.0, 6.0, 5.0, 10.0, 10.0, 0.0, 4504.0, 802655.0, 1.0, 1.0, 1.0, 2.0, 1.0, 5.0, 2.0, 19.0, 1.0, 3.0, 5.0, 0.0, 3.0, 11.0, 10.0, 2.0, 11.0, 5.0, 4.0, 1.0, 12.0, 3.0, 8.0, 4.0, 1.0, 4.0, 6.0, 0.0, 8.0, 10.0, 3.0, 2.0, 12.0, 1.0, 6.0, 3.0, 2.0, 6.0, 3.0, 4.0, 8.0, 10.0, 3.0, 1.0, 4.0, 7.0, 1.0, 0.0, 12.0, 0.0, 6.0, 5.0, 3.0, 1.0, 7.0, 8.0, 19.0, 0.0, 6.0, 7.0, 3.0, 3.0, 5.0, 4.0, 0.0, 5.0, 11.0, 6.0, 5.0, 2.0, 7.0, 5.0, 7.0, 4.0, 8.0, 2.0, 6.0, 5.0, 4.0, 4.0, 10.0, 2.0, 9.0, 11.0, 7.0, 5.0, 6.0, 6.0, 6.0, 4.0, 5.0, 0.0, 17.0, 34.0, 17.0, 38.0, 7.0, 34.0, 3.0, 23.0, 14.0, 12.0, 5.0, 3.0, 4.0, 3.0, 14.0, 8.0, 6.0, 7.0, 10.0, 8.0, 10.0, 12.0, 1555.0, 2016.0, 993.0, 603.0, 2736.0, 527.0, 177.0, 549.0, 1100.0, 565.0, 930.0, 2486.0, 1421.0, 1317.0, 5694.0, 1863.0, 1333.0, 311.0, 1350.0, 437.0, 127.0, 1069.0, 72.0, 334.0, 704.0, 904.0, 270.0, 8048.0, 145.0, 552.0, 1191.0, 1233.0, 375.0, 89.0, 879.0, 341.0, 84.0, 1919.0, 193.0, 592.0, 1063.0, 119.0, 1270.0, 225.0, 187.0, 457.0, 573.0, 1952.0, 364.0, 1335.0, 1668.0, 94.0, 2197.0, 1730.0, 573.0, 916.0, 4641.0, 3208.0, 900.0, 143.0, 4594.0, 1829.0, 476.0, 766.0, 1012.0, 2121.0, 5663.0, 837.0, 3829.0, 1638.0, 412.0, 706.0, 530.0, 53.0, 2330.0, 611.0, 565.0, 1414.0, 737.0, 79.0, 890.0, 380.0, 816.0, 261.0, 718.0, 670.0, 441.0, 53.0, 277.0, 504.0, 1150.0, 590.0, 8270.0, 1702.0, 2175.0, 218.0, 610.0, 826.0, 1229.0, 1870.0, 1092.0, 103.0, 3351.0, 373.0, 147.0, 11118.0, 248.0, 1127.0, 637.0, 294.0, 43.0, 789.0, 69.0, 3846.0, 550.0, 320.0, 41.0, 7.0, 515.0, 364.0, 669.0, 837.0, 842.0, 2539.0, 1202.0, 1043.0, 6696.0, 1019.0, 117.0, 124.0, 2138.0, 1506.0, 970.0, 458.0, 465.0, 1391.0, 294.0, 638.0, 342.0, 414.0, 568.0, 1359.0, 159.0, 350.0, 88.0, 362.0, 652.0, 80.0, 1094.0, 2921.0, 2112.0, 1071.0, 1125.0, 532.0, 378.0, 176.0, 562.0, 441.0, 422.0, 657.0, 3.0, 507.0, 376.0, 685.0, 2945.0, 921.0, 220.0, 1723.0, 3332.0, 3074.0, 48.0, 1274.0, 826.0, 503.0, 85.0, 696.0, 594.0, 296.0, 77.0, 46.0, 555.0, 268.0, 664.0, 238.0, 1045.0, 2820.0, 123.0, 995.0, 322.0, 1003.0, 466.0, 907.0, 826.0, 537.0, 1842.0, 415.0, 1666.0, 897.0, 731.0, 539.0, 1011.0, 387.0, 688.0, 687.0, 621.0, 345.0, 213.0, 2733.0, 364.0, 592.0, 148.0, 779.0, 996.0, 609.0, 529.0, 640.0, 189.0, 169.0, 2493.0, 648.0, 138.0, 458.0, 281.0, 519.0, 935.0, 3538.0, 1384.0, 2094.0, 1382.0, 2899.0, 65.0, 498.0, 3263.0, 516.0, 10.0, 3213.0, 105.0, 846.0, 406.0, 161.0, 5661.0, 2570.0, 519.0, 4041.0, 2458.0, 396.0, 196.0, 361.0, 1198.0, 265.0, 1211.0, 828.0, 3654.0, 959.0, 348.0, 120.0, 871.0, 1335.0, 1458.0, 466.0, 2002.0, 402.0, 3598.0, 331.0, 217.0, 295.0, 420.0, 1854.0, 376.0, 158.0, 193.0, 297.0, 3170.0, 395.0, 299.0, 471.0, 383.0, 18.0, 376.0, 584.0, 170.0, 316.0, 1231.0, 1156.0, 679.0, 282.0, 129.0, 320.0, 331.0, 341.0, 115.0, 809.0, 410.0, 199.0, 595.0, 114.0, 445.0, 686.0, 817.0, 50.0, 284.0, 125.0, 64.0, 135.0, 162.0, 531.0, 768.0, 928.0, 126.0, 184.0, 80.0, 8.0, 386.0, 86.0, 14553.0, 65.0, 756.0, 16.0, 346.0, 47.0, 65.0, 15.0, 86.0, 97.0, 23.0, 28.0, 29.0, 8.0, 50.0, 88.0, 1.0, 61.0, 0.0, 0.0, 0.0, 18.0, 113.0, 0.0, 0.0, 5.0, 0.0, 0.0, 0.0, 0.0, 1.0, 0.0, 0.0, 3.0, 0.0, 1.0, 1.0, 0.0, 1.0, 1.0, 0.0, 0.0, 1.0, 3.0, 1.0, 0.0, 0.0, 0.0, 2.0, 0.0, 0.0, 1.0, 1.0, 0.0, 1.0, 0.0, 0.0, 0.0, 0.0, 0.0, 0.0, 1.0, 2.0, 17.0, 0.0, 0.0, 0.0, 0.0, 1.0, 0.0, 0.0, 0.0, 0.0, 0.0, 0.0, 0.0, 0.0, 0.0, 0.0, 0.0, 2.0, 0.0, 0.0, 0.0, 0.0, 0.0, 0.0, 2.0, 0.0, 0.0, 2.0, 0.0, 0.0, 0.0, 2.0, 0.0, 0.0, 0.0, 1.0, 0.0, 0.0, 13.0, 8.0, 0.0, 0.0, 1.0, 1.0, 0.0, 394.0, 0.0, 613.0, 510.0, 156.0, 407.0, 0.0, 148.0, 613.0, 215.0, 469.0, 867.0, 2610.0, 418.0, 275.0, 148.0, 976.0, 630.0, 1175.0, 1449.0, 911.0, 226.0, 120.0, 446.0, 5187.0, 83.0, 613.0, 8.0, 394.0, 655.0, 642.0, 15.0, 667.0, 562836.0, 14780.0, 184812.0, 1615.0, 2659.0, 1957.0, 5251.0, 12650.0, 30325.0, 2023.0, 6096.0, 22189.0, 22402.0, 3.0, 95479.0, 2001.0, 1124.0, 24657.0, 2486.0, 5490.0, 8648.0, 1207.0, 1142.0, 225.0, 8647.0, 8648.0, 10154.0, 2015.0, 720.0, 118.0, 64.0, 1640.0, 1200.0, 220.0, 76.0, 118.0, 3406.0, 27.0, 2997.0, 467.0, 915.0, 509.0, 1528.0, 1708.0, 10590.0, 2706.0, 12866.0, 8157.0, 8621.0, 10581.0, 2165.0, 3863.0, 4500.0, 4998.0, 1678.0, 5840.0, 7324.0, 5448.0, 3908.0, 11787.0, 3637.0, 2286.0, 1238.0, 3127.0, 2424.0, 864.0, 1200.0, 1193.0, 220.0, 2282.0, 1640.0, 459.0, 4305.0, 786.0, 1528.0, 1049.0, 5315.0, 2300.0, 567.0, 720.0, 900.0, 1134.0, 1100.0, 51.0, 37.0, 104.0, 1629.0, 48.0, 50.0, 37.0, 78.0, 223.0, 23.0, 7538.0, 2110.0, 42.0, 114.0, 16.0, 9.0, 21.0, 88.0, 7.0, 213.0, 106.0, 31.0, 37.0, 26.0, 37.0, 42.0, 0.0, 0.0, 0.0, 0.0, 0.0, 0.0, 0.0, 2.0, 0.0, 0.0, 0.0, 0.0, 0.0, 0.0, 0.0, 0.0, 0.0, 1.0, 0.0, 0.0, 0.0, 0.0, 0.0, 0.0, 0.0, 10.0, 0.0, 4.0, 78.0, 0.0, 0.0, 0.0, 0.0, 0.0, 2.0, 0.0, 0.0, 2.0, 3.0, 0.0, 0.0, 1.0, 1.0, 1.0, 0.0, 2.0, 0.0, 2.0, 0.0, 3.0, 0.0, 0.0, 0.0, 0.0, 4.0, 0.0, 2.0, 0.0, 2.0, 1.0, 3.0, 0.0, 2.0, 0.0, 0.0, 0.0, 3.0, 2.0, 0.0, 2.0, 3.0, 3.0, 0.0, 2.0, 1.0, 2.0, 0.0, 2.0, 0.0, 4.0, 3.0, 1.0, 0.0, 0.0, 0.0, 2.0, 1.0, 0.0, 0.0, 1.0, 0.0, 0.0, 0.0, 0.0, 0.0, 0.0, 0.0, 0.0, 0.0, 0.0, 0.0, 0.0, 0.0, 0.0, 0.0, 0.0, 0.0, 0.0, 0.0, 0.0, 0.0, 0.0, 0.0, 0.0, 0.0, 0.0, 4.0, 0.0, 0.0, 0.0, 0.0, 0.0, 0.0, 0.0, 0.0, 0.0, 0.0, 0.0, 0.0, 0.0, 1.0, 0.0, 0.0, 0.0, 0.0, 0.0, 0.0, 0.0, 0.0, 0.0, 0.0, 0.0, 0.0, 0.0, 0.0, 0.0, 0.0, 0.0, 0.0, 0.0, 0.0, 1.0, 1.0, 0.0, 2.0, 0.0, 0.0, 0.0, 0.0, 0.0, 2.0, 2.0, 2.0, 0.0, 0.0, 0.0, 2.0, 0.0, 0.0, 1.0, 0.0, 0.0, 0.0, 0.0, 1.0, 0.0, 0.0, 0.0, 0.0, 1.0, 0.0, 0.0, 0.0, 0.0, 0.0, 0.0, 0.0, 0.0, 0.0, 0.0, 1.0, 0.0, 1.0, 0.0, 1.0, 0.0, 0.0, 0.0, 0.0, 0.0, 0.0, 0.0, 0.0, 1.0, 0.0, 0.0, 0.0, 1.0, 0.0, 0.0, 0.0, 0.0, 0.0, 0.0, 0.0, 0.0, 0.0, 0.0, 0.0, 0.0, 0.0, 0.0, 0.0, 0.0, 1.0, 0.0, 0.0, 0.0, 1.0, 0.0, 0.0, 0.0, 0.0, 0.0, 0.0, 0.0, 0.0, 1.0, 0.0, 0.0, 0.0, 0.0, 0.0, 1.0, 2.0, 0.0, 0.0, 0.0, 0.0, 0.0, 0.0, 0.0, 0.0, 0.0, 1.0, 0.0, 1.0, 0.0, 0.0, 0.0, 0.0, 0.0, 0.0, 1.0, 0.0, 0.0, 0.0, 1.0, 0.0, 0.0, 0.0, 0.0, 0.0, 0.0, 0.0, 1.0, 0.0, 0.0, 0.0, 0.0, 0.0, 0.0, 0.0, 0.0, 0.0, 0.0, 0.0, 0.0, 0.0, 0.0, 0.0, 0.0, 0.0, 0.0, 0.0, 0.0, 0.0, 0.0, 0.0, 0.0, 0.0, 0.0, 0.0, 0.0, 0.0, 0.0, 0.0, 1.0, 0.0, 0.0, 0.0, 1.0, 0.0, 0.0, 1.0, 1.0, 1.0, 0.0, 0.0, 0.0, 0.0, 1.0, 0.0, 0.0, 0.0, 0.0, 0.0, 0.0, 0.0, 0.0, 0.0, 0.0, 0.0, 0.0, 1.0, 0.0, 0.0, 0.0, 0.0, 0.0, 0.0, 0.0, 0.0, 0.0, 0.0, 0.0, 0.0, 0.0, 1.0, 0.0, 0.0, 0.0, 0.0, 0.0, 0.0, 0.0, 0.0, 1.0, 0.0, 0.0, 0.0, 0.0, 0.0, 0.0, 0.0, 0.0, 0.0, 0.0, 0.0, 0.0, 1.0, 0.0, 0.0, 0.0, 0.0, 0.0, 0.0, 0.0, 0.0, 0.0, 0.0, 0.0, 0.0, 1387.0, 0.0, 12226.0, 1.0, 285.0, 0.0, 4078.0, 3.0, 4.0, 3055.0, 2.0, 6.0, 33.0, 5.0, 6.0, 10.0, 797.0, 169.0, 1323.0, 928.0, 768.0, 595.0, 1063.0, 410.0, 282.0, 11.0, 238.0, 31539.0, 10.0, 5.0, 184.0, 11.0, 284.0, 205.0, 199.0, 21.0, 93.0, 15.0, 37.0, 11.0, 4.0, 24.0, 36.0, 9.0, 6.0, 5.0, 4.0, 13.0, 12.0, 6.0, 11321.0, 13611.0, 20.0, 6499.0, 1146.0, 14235.0, 112.0, 8.0, 153.0, 13.0, 12.0, 39.0, 9.0, 693.0, 52998.0, 27750.0, 809.0, 16330.0, 4989.0, 3169.0, 5051.0, 410.0, 3990.0, 25.0, 6727.0, 27.0, 12.0, 17476.0, 282.0, 40853.0, 5646.0, 3708.0, 17792.0, 6914.0, 115.0, 1376.0, 10.0, 595.0, 1231.0, 6904.0, 2.0, 2195.0, 3378.0, 90.0, 6499.0, 1546.0, 47512.0, 31.0, 797.0, 273.0, 36105.0, 4635.0, 5308.0, 3426.0, 11813.0, 615.0, 136.0, 17871.0, 1229.0, 1313.0, 129.0, 1270.0, 181.0, 457.0, 895.0, 379.0, 879.0, 448.0, 22.0, 1076.0, 237.0, 1210.0, 856.0, 26.0, 6577.0, 6932.0, 11.0, 14.0, 1086.0, 5479.0, 817.0, 291.0, 50.0, 2451.0, 17457.0, 58.0, 15.0, 768.0, 9.0, 380.0, 52.0, 12.0, 92.0, 79.0, 2810.0, 49.0, 5479.0, 70.0, 47.0, 403.0, 255.0, 39.0, 162.0, 28.0, 55.0, 156.0, 65.0, 3713.0, 168.0, 92.0, 64.0, 273.0, 1231.0, 14.0, 6577.0, 199.0, 809.0, 205.0, 928.0, 176.0, 13.0, 407.0, 69072.0, 25.0, 184.0, 230.0, 2415.0, 9.0, 635.0, 107.0, 81.0, 27.0, 442.0, 135.0, 1380.0, 17.0, 65.0, 162.0, 448.0, 380.0, 1147.0, 394.0, 492.0, 169.0, 401.0, 3.0, 523.0, 498.0, 798.0, 848.0, 104.0, 482.0, 1280.0, 35.0, 333.0, 485.0, 1.0, 465.0, 14.0, 137.0, 304.0, 220.0, 4.0, 934.0, 135.0, 4655.0, 824.0, 809.0, 928.0, 1063.0, 136.0, 282.0, 95.0, 404.0, 205.0, 115.0, 15.0, 284.0, 1231.0, 169.0, 199.0, 12.0, 284.0, 23.0, 8.0, 171.0, 410.0, 1231.0, 13.0, 105.0, 1323.0, 464.0, 5.0, 12.0, 410.0, 951.0, 3.0, 6.0, 50.0, 1.0, 10.0, 6.0, 71.0, 199.0, 28.0, 83.0, 0.0, 115.0, 92.0, 14.0, 224.0, 44.0, 9178.0, 380.0, 781.0, 842.0, 6.0, 23.0, 2.0, 754.0, 8241.0, 238.0, 4.0, 479.0, 612.0, 9.0, 971.0, 72363.0, 4.0, 528.0, 2756.0, 3.0, 550.0, 951.0, 2.0, 11205.0, 0.0, 77.0, 93.0, 471.0, 12207.0, 799.0, 2221.0, 1740.0, 17.0, 629.0, 1.0, 90.0, 158.0, 7138.0, 46.0, 31.0, 60.0, 13010.0, 0.0, 6.0, 1817.0, 388.0, 10.0, 815.0, 162.0, 5300.0, 44523.0, 80934.0, 83.0, 84171.0, 13.0, 16.0, 17049.0, 11.0, 4.0, 13.0, 5.0, 16.0, 45.0, 100.0, 21116.0, 10.0, 74.0, 5420.0, 1759.0, 29.0, 1034.0, 2178.0, 14940.0, 2837.0, 331.0, 40944.0, 198.0, 20882.0, 1003.0, 240637.0, 16601.0, 3157.0, 593.0, 20084.0, 8957.0, 6.0, 8.0, 894.0, 58.0, 3013.0, 8.0, 38.0, 257.0, 4521.0, 6569.0, 51.0, 23.0, 443.0, 411.0, 28.0, 5.0, 133.0, 7446.0, 248.0, 2964.0, 1.0, 2839.0, 394.0, 130.0, 27.0, 83.0, 1.0, 54.0, 347.0, 32.0, 521.0, 37.0, 12.0, 51.0, 1006.0, 1118.0, 34961.0, 14.0, 2072.0, 88.0, 1.0, 10980.0, 1309.0, 40.0, 89.0, 311.0, 62.0, 2352.0, 820.0, 44.0, 143.0, 249.0, 802.0, 20.0, 446.0, 4.0, 5.0, 29.0, 3.0, 1.0, 450.0, 742.0, 2927.0, 88.0, 190.0, 7152.0, 232.0, 2383.0, 2400.0, 1517.0, 1213.0, 4194.0, 35382.0, 631.0, 35.0, 6193.0, 1860.0, 2205.0, 106582.0, 1445.0, 2497.0, 54.0, 509.0, 310.0, 2445.0, 3161.0, 445.0, 9919.0, 11580.0, 322.0, 105.0, 1294.0, 3323.0, 7891.0, 718.0, 246.0, 24532.0, 525.0, 2095.0, 3.0, 4660.0, 11.0, 843.0, 1421.0, 129.0, 397.0, 6913.0, 738.0, 511.0, 8600.0, 2647.0, 1012.0, 2962.0, 1072.0, 3221.0, 186197.0, 173.0, 4553.0, 1236.0, 1767.0, 252.0, 4400.0, 4695.0, 3780.0, 1883.0, 17047.0, 6815.0, 967.0, 604.0, 5119.0, 564.0, 4059.0, 968.0, 866.0, 200.0, 1442.0, 279.0, 17093.0, 1243.0, 66.0, 963.0, 6186.0, 145.0, 13.0, 177.0, 46.0, 5099.0, 98.0, 31.0, 164.0, 3204.0, 12.0, 348.0, 221.0, 2071.0, 1420.0, 63272.0, 60.0, 357.0, 914.0, 142.0, 543.0, 2610.0, 154.0, 53.0, 25.0, 5817.0, 18032.0, 180.0, 37.0, 37.0, 4.0, 3.0, 32.0, 10.0, 28.0, 294.0, 203.0, 5216.0, 3042.0, 107.0, 464.0, 38.0, 795.0, 56.0, 5798.0, 3756.0, 95.0, 694.0, 524.0, 2638.0, 47.0, 707.0, 15.0, 99.0, 293.0, 238.0, 46.0, 31.0, 3446.0, 26.0, 165.0, 173.0, 734.0, 829.0, 159.0, 781.0, 78.0, 194.0, 240.0, 51.0, 201.0, 10.0, 200.0, 275.0, 1.0, 27647.0, 72.0, 72.0, 182.0, 38.0, 49.0, 27.0, 35.0, 139.0, 76.0, 100.0, 58.0, 51.0, 59.0, 74.0, 69.0, 32.0, 29.0, 7.0, 30.0, 60855.0, 10.0, 17.0, 37.0, 32.0, 45.0, 19.0, 13.0, 13.0, 98.0, 38.0, 101.0, 69.0, 80.0, 22.0, 77.0, 147.0, 50.0, 61.0, 131.0, 114.0, 13.0, 6.0, 230.0, 10.0, 23.0, 19.0, 19.0, 7.0, 26.0, 10.0, 6.0, 7.0, 9.0, 42.0, 6.0, 8.0, 132.0, 14.0, 12.0, 9.0, 9.0, 9.0, 5.0, 7.0, 5.0, 6.0, 31.0, 52.0, 7155.0, 3645.0, 4362.0, 14.0, 14.0, 13241.0, 144.0, 0.0, 1.0, 7.0, 26.0, 16.0, 22.0, 9.0, 22.0, 24.0, 758.0, 21.0, 26.0, 21.0, 17.0, 3.0, 9.0, 2.0, 87.0, 17.0, 30.0, 1.0, 431.0, 54.0, 5.0, 0.0, 222.0, 44.0, 43.0, 64.0, 219.0, 5.0, 19.0, 11.0, 5.0, 3237.0, 358.0, 222.0, 135.0, 104.0, 450.0, 13.0, 2785.0, 42.0, 22.0, 958.0, 2742.0, 24.0, 46.0, 1949.0, 63.0, 450.0, 50.0, 4.0, 65.0, 107.0, 144.0, 13815.0, 44.0, 120.0, 15.0, 225.0, 144.0, 21.0, 25.0, 60.0, 1850.0, 1237.0, 32.0, 153527.0, 11.0, 15473.0, 640.0, 59.0, 75.0, 27.0, 1025.0, 11515.0, 49.0, 2530.0, 11.0, 887.0, 39.0, 951.0, 13.0, 2817.0, 8.0, 226.0, 307.0, 313.0, 2722.0, 725.0, 53.0, 2827.0, 969.0, 204.0, 566.0, 10.0, 11505.0, 148.0, 30.0, 426.0, 1468.0, 822.0, 380.0, 23.0, 148.0, 69.0, 1543.0, 1334.0, 1754.0, 2364.0, 369.0, 2271.0, 40.0, 11441.0, 9978.0, 7.0, 3.0, 2708.0, 1720.0, 3.0, 674.0, 439.0, 1568.0, 629.0, 8.0, 108.0, 322.0, 375.0, 8709.0, 2.0, 1389.0, 1908.0, 243.0, 882.0, 2289.0, 202.0, 642.0, 15.0, 295.0, 556.0, 147.0, 94.0, 3578.0, 19280.0, 528.0, 582.0, 899.0, 19.0, 337.0, 11027.0, 1151.0, 419.0, 1618.0, 88.0, 193.0, 1774.0, 875.0, 130.0, 160.0, 71.0, 64.0, 1070.0, 96.0, 70.0, 222.0, 921.0, 222.0, 128.0, 1485.0, 419.0, 921.0, 1266.0, 11.0, 528.0, 38.0, 526.0, 150.0, 955.0, 60.0, 365.0, 76.0, 827.0, 57.0, 419.0, 469.0, 327.0, 126.0, 642.0, 117.0, 66.0, 445.0, 696.0, 2389.0, 365.0, 327.0, 734.0, 1447.0, 4317.0, 445.0, 1584.0, 358.0, 88.0, 94.0, 140.0, 128.0, 322.0, 118.0, 600.0, 335.0, 511.0, 3.0, 159.0, 143.0, 169.0, 601.0, 2.0, 22.0, 528.0, 116.0, 955.0, 9.0, 171.0, 119.0, 8.0, 23.0, 8.0, 20.0, 111.0, 77.0, 1303.0, 110.0, 140.0, 367.0, 318.0, 12.0, 174.0, 9.0, 320.0, 142.0, 16.0, 31.0, 25.0, 52.0, 2855.0, 1407.0, 146.0, 5.0, 273.0, 3405.0, 222.0, 68.0, 763.0, 75.0, 86.0, 127.0, 2160.0, 16.0, 16351.0, 18.0, 1939.0, 125.0, 36.0, 177.0, 1077.0, 9280.0, 4.0, 5.0, 8015.0, 51769.0, 90.0, 8842.0, 894.0, 588.0, 11.0, 10.0, 155.0, 6082.0, 4182.0, 54.0, 27813.0, 1358.0, 4.0, 8.0, 1578.0, 32.0, 1178.0, 517.0, 44.0, 520.0, 246.0, 103.0, 77.0, 291.0, 20.0, 5378.0, 136.0, 12.0, 19.0, 5378.0, 490.0, 394.0, 340.0, 56.0, 679.0, 10471.0, 1156.0, 439.0, 83.0, 129.0, 288.0, 150.0, 556.0, 1728.0, 381.0, 50.0, 174.0, 169.0, 832.0, 364.0, 115.0, 1231.0, 13.0, 62.0, 264.0, 8.0, 3.0, 34.0, 928.0, 489.0, 205.0, 44.0, 35.0, 25.0, 273.0, 1927.0, 5.0, 12.0, 16.0, 1434.0, 21.0, 10490.0, 183.0, 95.0, 12.0, 135.0, 8015.0, 399.0, 96.0, 595.0, 513.0, 13.0, 26.0, 152.0, 710.0, 3412.0, 2354.0, 117.0, 2001.0, 32771.0, 496.0, 1302.0, 3485.0, 147.0, 80.0, 1651.0, 29.0, 2860.0, 503.0, 1557.0, 316.0, 3231.0, 454.0, 311.0, 4532.0, 399.0, 1908.0, 153.0, 1468.0, 31874.0, 176.0, 6990.0, 1522.0, 12328.0, 870.0, 154.0, 2467.0, 8135.0, 4213.0, 215.0, 437.0, 3207.0, 59.0, 4293.0, 607.0, 1289.0, 53.0, 32842.0, 854.0, 149.0, 1215.0, 898.0, 233.0, 583.0, 10.0, 231.0, 239.0, 79824.0, 14593.0, 91.0, 529.0, 130.0, 683.0, 562.0, 2607.0, 5100.0, 1098.0, 325.0, 2095.0, 3287.0, 1142.0, 1005.0, 3255.0, 472.0, 1637.0, 4705.0, 601.0, 2394.0, 215.0, 2876.0, 1694.0, 1712.0, 7405.0, 1957.0, 1153.0, 204.0, 1559.0, 405.0, 253.0, 1328.0, 0.0, 2780.0, 14994.0, 1293.0, 0.0, 736.0, 354806.0, 288.0, 745.0, 1889.0, 504.0, 1869.0, 2.0, 426.0, 8989.0, 828.0, 39767.0, 1291.0, 184.0, 63.0, 134.0, 90.0, 2392.0, 2316.0, 1215.0, 2625.0, 272.0, 329.0, 22920.0, 137.0, 243.0, 3485.0, 34.0, 5323.0, 7241.0, 9631.0, 109.0, 2149.0, 5378.0, 31.0, 520.0, 62.0, 3683.0, 763.0, 27813.0, 10471.0, 588.0, 174.0, 54.0, 77.0, 517.0, 361.0, 15816.0, 15816.0, 431.0, 264.0, 288.0, 4182.0, 19790.0, 439.0, 1935.0, 8842.0, 6082.0, 1163.0, 1372.0, 5378.0, 64.0, 30.0, 1727.0, 116.0, 275.0, 611.0, 1057.0, 727.0, 751.0, 1221.0, 340.0, 16.0, 51769.0, 418.0, 832.0]\n"
     ]
    }
   ],
   "source": [
    "box_df = tracks_new['likes_count']\n",
    "box_df = tracks_new[tracks_new['likes_count'].notnull()]\n",
    "l = box_df['likes_count'].to_list()\n",
    "print(l)"
   ]
  },
  {
   "cell_type": "code",
   "execution_count": 17,
   "id": "bb8a6be0",
   "metadata": {},
   "outputs": [
    {
     "data": {
      "text/plain": [
       "{'whiskers': [<matplotlib.lines.Line2D at 0x14b05e654c0>,\n",
       "  <matplotlib.lines.Line2D at 0x14b05e65790>],\n",
       " 'caps': [<matplotlib.lines.Line2D at 0x14b05e65b20>,\n",
       "  <matplotlib.lines.Line2D at 0x14b05e65eb0>],\n",
       " 'boxes': [<matplotlib.lines.Line2D at 0x14b05e65070>],\n",
       " 'medians': [<matplotlib.lines.Line2D at 0x14b05e71280>],\n",
       " 'fliers': [<matplotlib.lines.Line2D at 0x14b05e71610>],\n",
       " 'means': []}"
      ]
     },
     "execution_count": 17,
     "metadata": {},
     "output_type": "execute_result"
    },
    {
     "data": {
      "image/png": "[encoded data removed]",
      "text/plain": [
       "<Figure size 1080x720 with 1 Axes>"
      ]
     },
     "metadata": {
      "needs_background": "light"
     },
     "output_type": "display_data"
    }
   ],
   "source": [
    "plt.boxplot(x=l)"
   ]
  },
  {
   "cell_type": "markdown",
   "id": "25b26d6a",
   "metadata": {},
   "source": [
    "### Câu hỏi 4: Sự tương quan giữa số lượt like và số lượt repost\n",
    "Xét dataset **tracks** \"**(3485, 38)**\" chứa thông tin của từng track với số lượng sample là 3485. Ta sẽ xem xét 2 thuộc tính là:\n",
    "- **likes_count**: số lượng người thích của track đó\n",
    "- **reposts_count**: số lượng người đăng lại track đó\n",
    "<!-- -->\n",
    "Ta sẽ xem sự tương quan giữa số lượt thích **likes_count** với số lượng đăng lại **reposts_count** bằng Scatter plot để xem nếu một track có số lượt thích cao thì khả năng sẽ được repost lại cũng sẽ cao"
   ]
  },
  {
   "cell_type": "code",
   "execution_count": 18,
   "id": "72bf4953",
   "metadata": {},
   "outputs": [],
   "source": [
    "cor_data = tracks_new[['likes_count', 'reposts_count']]"
   ]
  },
  {
   "cell_type": "code",
   "execution_count": 19,
   "id": "c3bed6f9",
   "metadata": {},
   "outputs": [
    {
     "data": {
      "image/png": "[encoded data removed]",
      "text/plain": [
       "<Figure size 1080x720 with 1 Axes>"
      ]
     },
     "metadata": {
      "needs_background": "light"
     },
     "output_type": "display_data"
    }
   ],
   "source": [
    "plt.scatter(cor_data['likes_count'], cor_data['reposts_count'], marker='o');\n",
    "# plt.rcParams[\"figure.figsize\"] = (15, 10)\n",
    "\n",
    "plt.xlabel('Likes count')\n",
    "plt.ylabel('reposts count')\n",
    "plt.title(\"Correlated chart about likes and reposts count\")\n",
    "plt.show()"
   ]
  },
  {
   "cell_type": "markdown",
   "id": "add353cf",
   "metadata": {},
   "source": [
    "### Nhận xét:\n",
    "- Với phương pháp này, ta có thể nhận thấy các điểm outlier và ta có thể loại trừ chúng\n",
    "- ta sẽ xem xét kĩ trong khoảng từ 0-1000, bởi vì đây là nơi các điểm tập trung lớn nhất. Ta thấy các điểm có xu hướng theo một đường thẳng xéo đi lên,\n",
    "vì vậy 2 biến **like_count** và **repost_count** có sự tương quan với nhau theo hướng dương (positive correlation), nghĩa là nếu lượt like_count tăng,\n",
    "thì track đó sẽ được yêu thích nhiều hơn dẫn đến lượt repost sẽ cao hơn"
   ]
  }
 ],
 "metadata": {
  "kernelspec": {
   "display_name": "Python 3 (ipykernel)",
   "language": "python",
   "name": "python3"
  },
  "language_info": {
   "codemirror_mode": {
    "name": "ipython",
    "version": 3
   },
   "file_extension": ".py",
   "mimetype": "text/x-python",
   "name": "python",
   "nbconvert_exporter": "python",
   "pygments_lexer": "ipython3",
   "version": "3.8.8"
  }
 },
 "nbformat": 4,
 "nbformat_minor": 5
}
